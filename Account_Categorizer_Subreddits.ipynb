{
 "cells": [
  {
   "cell_type": "code",
   "execution_count": 1,
   "metadata": {},
   "outputs": [],
   "source": [
    "import sqlite3\n",
    "import pandas as pd\n",
    "from sklearn import datasets, metrics, linear_model, neural_network, model_selection, ensemble\n",
    "import matplotlib\n",
    "%matplotlib inline\n",
    "matplotlib.rcParams.update(\n",
    "    {'font.size': 22, 'figure.figsize': (16, 8)} # Make font and chart larger.\n",
    ")"
   ]
  },
  {
   "cell_type": "code",
   "execution_count": 3,
   "metadata": {},
   "outputs": [
    {
     "data": {
      "text/html": [
       "<div>\n",
       "<style scoped>\n",
       "    .dataframe tbody tr th:only-of-type {\n",
       "        vertical-align: middle;\n",
       "    }\n",
       "\n",
       "    .dataframe tbody tr th {\n",
       "        vertical-align: top;\n",
       "    }\n",
       "\n",
       "    .dataframe thead th {\n",
       "        text-align: right;\n",
       "    }\n",
       "</style>\n",
       "<table border=\"1\" class=\"dataframe\">\n",
       "  <thead>\n",
       "    <tr style=\"text-align: right;\">\n",
       "      <th></th>\n",
       "      <th>username</th>\n",
       "      <th>gender</th>\n",
       "      <th>orientation</th>\n",
       "      <th>age</th>\n",
       "      <th>subreddits</th>\n",
       "    </tr>\n",
       "  </thead>\n",
       "  <tbody>\n",
       "    <tr>\n",
       "      <th>0</th>\n",
       "      <td>SmootieFakk</td>\n",
       "      <td>male</td>\n",
       "      <td>unknown</td>\n",
       "      <td>0</td>\n",
       "      <td>Overwatch,movies,aww,dndnext,reddit.com,politi...</td>\n",
       "    </tr>\n",
       "    <tr>\n",
       "      <th>1</th>\n",
       "      <td>dizzykitty</td>\n",
       "      <td>male</td>\n",
       "      <td>unknown</td>\n",
       "      <td>0</td>\n",
       "      <td>nsfw_gifs,Overwatch,movies,AskRedditAfterDark,...</td>\n",
       "    </tr>\n",
       "    <tr>\n",
       "      <th>2</th>\n",
       "      <td>JoshSidekick</td>\n",
       "      <td>male</td>\n",
       "      <td>unknown</td>\n",
       "      <td>0</td>\n",
       "      <td>WayOfTheBern,pics,AnimalsBeingJerks,GetMotivat...</td>\n",
       "    </tr>\n",
       "    <tr>\n",
       "      <th>3</th>\n",
       "      <td>probywan1337</td>\n",
       "      <td>male</td>\n",
       "      <td>unknown</td>\n",
       "      <td>0</td>\n",
       "      <td>pics,LearnJapanese,GolfStory,bestof,KratomKorn...</td>\n",
       "    </tr>\n",
       "    <tr>\n",
       "      <th>4</th>\n",
       "      <td>GutenBourbon</td>\n",
       "      <td>male</td>\n",
       "      <td>unknown</td>\n",
       "      <td>0</td>\n",
       "      <td>spicy,holdmyfries,IAmA,AskOuija,UpliftingNews,...</td>\n",
       "    </tr>\n",
       "  </tbody>\n",
       "</table>\n",
       "</div>"
      ],
      "text/plain": [
       "       username gender orientation  age  \\\n",
       "0   SmootieFakk   male     unknown    0   \n",
       "1    dizzykitty   male     unknown    0   \n",
       "2  JoshSidekick   male     unknown    0   \n",
       "3  probywan1337   male     unknown    0   \n",
       "4  GutenBourbon   male     unknown    0   \n",
       "\n",
       "                                          subreddits  \n",
       "0  Overwatch,movies,aww,dndnext,reddit.com,politi...  \n",
       "1  nsfw_gifs,Overwatch,movies,AskRedditAfterDark,...  \n",
       "2  WayOfTheBern,pics,AnimalsBeingJerks,GetMotivat...  \n",
       "3  pics,LearnJapanese,GolfStory,bestof,KratomKorn...  \n",
       "4  spicy,holdmyfries,IAmA,AskOuija,UpliftingNews,...  "
      ]
     },
     "execution_count": 3,
     "metadata": {},
     "output_type": "execute_result"
    }
   ],
   "source": [
    "conn = sqlite3.connect('/data/accounts.db')\n",
    "curr = conn.cursor()\n",
    "\n",
    "reddit_users_df = pd.read_sql_query(\"\"\"SELECT *\n",
    "                            FROM users\n",
    "                            WHERE gender in ('male', 'female')\"\"\", conn)\n",
    "conn.close()\n",
    "reddit_users_df.head() "
   ]
  },
  {
   "cell_type": "code",
   "execution_count": 5,
   "metadata": {},
   "outputs": [
    {
     "data": {
      "text/plain": [
       "511"
      ]
     },
     "execution_count": 5,
     "metadata": {},
     "output_type": "execute_result"
    }
   ],
   "source": [
    "len(reddit_users_df)"
   ]
  },
  {
   "cell_type": "code",
   "execution_count": 7,
   "metadata": {},
   "outputs": [
    {
     "data": {
      "text/plain": [
       "male      372\n",
       "female    139\n",
       "Name: gender, dtype: int64"
      ]
     },
     "execution_count": 7,
     "metadata": {},
     "output_type": "execute_result"
    }
   ],
   "source": [
    "# How often each value appears\n",
    "reddit_users_df['gender'].value_counts() "
   ]
  },
  {
   "cell_type": "code",
   "execution_count": 8,
   "metadata": {},
   "outputs": [
    {
     "data": {
      "text/html": [
       "<div>\n",
       "<style scoped>\n",
       "    .dataframe tbody tr th:only-of-type {\n",
       "        vertical-align: middle;\n",
       "    }\n",
       "\n",
       "    .dataframe tbody tr th {\n",
       "        vertical-align: top;\n",
       "    }\n",
       "\n",
       "    .dataframe thead th {\n",
       "        text-align: right;\n",
       "    }\n",
       "</style>\n",
       "<table border=\"1\" class=\"dataframe\">\n",
       "  <thead>\n",
       "    <tr style=\"text-align: right;\">\n",
       "      <th></th>\n",
       "      <th>username</th>\n",
       "      <th>gender</th>\n",
       "      <th>orientation</th>\n",
       "      <th>age</th>\n",
       "      <th>subreddits</th>\n",
       "    </tr>\n",
       "  </thead>\n",
       "  <tbody>\n",
       "    <tr>\n",
       "      <th>495</th>\n",
       "      <td>Dro24</td>\n",
       "      <td>male</td>\n",
       "      <td>unknown</td>\n",
       "      <td>0</td>\n",
       "      <td>hiphopheads,CollegeBasketball,n64,supremecloth...</td>\n",
       "    </tr>\n",
       "    <tr>\n",
       "      <th>342</th>\n",
       "      <td>66o4dP73pb7</td>\n",
       "      <td>male</td>\n",
       "      <td>unknown</td>\n",
       "      <td>0</td>\n",
       "      <td>exmormon,reloading,geology,ExMo_Christianity</td>\n",
       "    </tr>\n",
       "    <tr>\n",
       "      <th>53</th>\n",
       "      <td>AirFell85</td>\n",
       "      <td>male</td>\n",
       "      <td>unknown</td>\n",
       "      <td>0</td>\n",
       "      <td>delusionalcraigslist,absolver,modnews,wwiipics...</td>\n",
       "    </tr>\n",
       "    <tr>\n",
       "      <th>263</th>\n",
       "      <td>OaklandCali</td>\n",
       "      <td>male</td>\n",
       "      <td>unknown</td>\n",
       "      <td>0</td>\n",
       "      <td>CampfireCooking,korea,amihot,slowcooking,japan...</td>\n",
       "    </tr>\n",
       "    <tr>\n",
       "      <th>382</th>\n",
       "      <td>TheTurtleTamer</td>\n",
       "      <td>male</td>\n",
       "      <td>unknown</td>\n",
       "      <td>0</td>\n",
       "      <td>delusionalcraigslist,meirl,likeus,shittyfoodpo...</td>\n",
       "    </tr>\n",
       "    <tr>\n",
       "      <th>472</th>\n",
       "      <td>aggsalad</td>\n",
       "      <td>male</td>\n",
       "      <td>unknown</td>\n",
       "      <td>0</td>\n",
       "      <td>AskWomen,Whatcouldgowrong,summonerschool,video...</td>\n",
       "    </tr>\n",
       "    <tr>\n",
       "      <th>179</th>\n",
       "      <td>s1ugg0</td>\n",
       "      <td>male</td>\n",
       "      <td>unknown</td>\n",
       "      <td>0</td>\n",
       "      <td>niceguys,Whatcouldgowrong,dogpictures,OldSchoo...</td>\n",
       "    </tr>\n",
       "    <tr>\n",
       "      <th>498</th>\n",
       "      <td>DrummingViking</td>\n",
       "      <td>male</td>\n",
       "      <td>unknown</td>\n",
       "      <td>0</td>\n",
       "      <td>AskWomen,KotakuInAction,onewordeach,beermoney,...</td>\n",
       "    </tr>\n",
       "    <tr>\n",
       "      <th>235</th>\n",
       "      <td>KonichiwaB1chez</td>\n",
       "      <td>male</td>\n",
       "      <td>unknown</td>\n",
       "      <td>0</td>\n",
       "      <td>buildapc,southpark,adventuretime,survivorzero,...</td>\n",
       "    </tr>\n",
       "    <tr>\n",
       "      <th>223</th>\n",
       "      <td>pegged50</td>\n",
       "      <td>male</td>\n",
       "      <td>unknown</td>\n",
       "      <td>0</td>\n",
       "      <td>Shitty_Car_Mods,AskRedditNSFW,WTF,pegging_unki...</td>\n",
       "    </tr>\n",
       "  </tbody>\n",
       "</table>\n",
       "</div>"
      ],
      "text/plain": [
       "            username gender orientation  age  \\\n",
       "495            Dro24   male     unknown    0   \n",
       "342      66o4dP73pb7   male     unknown    0   \n",
       "53         AirFell85   male     unknown    0   \n",
       "263      OaklandCali   male     unknown    0   \n",
       "382   TheTurtleTamer   male     unknown    0   \n",
       "472         aggsalad   male     unknown    0   \n",
       "179           s1ugg0   male     unknown    0   \n",
       "498   DrummingViking   male     unknown    0   \n",
       "235  KonichiwaB1chez   male     unknown    0   \n",
       "223         pegged50   male     unknown    0   \n",
       "\n",
       "                                            subreddits  \n",
       "495  hiphopheads,CollegeBasketball,n64,supremecloth...  \n",
       "342       exmormon,reloading,geology,ExMo_Christianity  \n",
       "53   delusionalcraigslist,absolver,modnews,wwiipics...  \n",
       "263  CampfireCooking,korea,amihot,slowcooking,japan...  \n",
       "382  delusionalcraigslist,meirl,likeus,shittyfoodpo...  \n",
       "472  AskWomen,Whatcouldgowrong,summonerschool,video...  \n",
       "179  niceguys,Whatcouldgowrong,dogpictures,OldSchoo...  \n",
       "498  AskWomen,KotakuInAction,onewordeach,beermoney,...  \n",
       "235  buildapc,southpark,adventuretime,survivorzero,...  \n",
       "223  Shitty_Car_Mods,AskRedditNSFW,WTF,pegging_unki...  "
      ]
     },
     "execution_count": 8,
     "metadata": {},
     "output_type": "execute_result"
    }
   ],
   "source": [
    "reddit_users_df[reddit_users_df['gender']=='male'].sample(10)"
   ]
  },
  {
   "cell_type": "markdown",
   "metadata": {},
   "source": [
    "There's more male than female here. We can beat 50% accuracy just by saying everyone is male"
   ]
  },
  {
   "cell_type": "code",
   "execution_count": 72,
   "metadata": {},
   "outputs": [
    {
     "name": "stdout",
     "output_type": "stream",
     "text": [
      "Accuracy if we call everything male: 72.80%\n"
     ]
    }
   ],
   "source": [
    "always_male_acc = metrics.accuracy_score(\n",
    "    reddit_users_df['gender'],\n",
    "    ['male']*len(reddit_users_df)\n",
    ")\n",
    "\n",
    "\n",
    "print('Accuracy if we call everything male: %.2f%%' % (always_male_acc*100))"
   ]
  },
  {
   "cell_type": "code",
   "execution_count": 73,
   "metadata": {},
   "outputs": [
    {
     "data": {
      "text/html": [
       "<div>\n",
       "<style scoped>\n",
       "    .dataframe tbody tr th:only-of-type {\n",
       "        vertical-align: middle;\n",
       "    }\n",
       "\n",
       "    .dataframe tbody tr th {\n",
       "        vertical-align: top;\n",
       "    }\n",
       "\n",
       "    .dataframe thead th {\n",
       "        text-align: right;\n",
       "    }\n",
       "</style>\n",
       "<table border=\"1\" class=\"dataframe\">\n",
       "  <thead>\n",
       "    <tr style=\"text-align: right;\">\n",
       "      <th></th>\n",
       "      <th>username</th>\n",
       "      <th>gender</th>\n",
       "      <th>orientation</th>\n",
       "      <th>age</th>\n",
       "      <th>subreddits</th>\n",
       "    </tr>\n",
       "  </thead>\n",
       "  <tbody>\n",
       "    <tr>\n",
       "      <th>0</th>\n",
       "      <td>SmootieFakk</td>\n",
       "      <td>male</td>\n",
       "      <td>unknown</td>\n",
       "      <td>0</td>\n",
       "      <td>Overwatch,movies,aww,dndnext,reddit.com,politi...</td>\n",
       "    </tr>\n",
       "    <tr>\n",
       "      <th>1</th>\n",
       "      <td>dizzykitty</td>\n",
       "      <td>male</td>\n",
       "      <td>unknown</td>\n",
       "      <td>0</td>\n",
       "      <td>nsfw_gifs,Overwatch,movies,AskRedditAfterDark,...</td>\n",
       "    </tr>\n",
       "    <tr>\n",
       "      <th>2</th>\n",
       "      <td>JoshSidekick</td>\n",
       "      <td>male</td>\n",
       "      <td>unknown</td>\n",
       "      <td>0</td>\n",
       "      <td>WayOfTheBern,pics,AnimalsBeingJerks,GetMotivat...</td>\n",
       "    </tr>\n",
       "    <tr>\n",
       "      <th>3</th>\n",
       "      <td>probywan1337</td>\n",
       "      <td>male</td>\n",
       "      <td>unknown</td>\n",
       "      <td>0</td>\n",
       "      <td>pics,LearnJapanese,GolfStory,bestof,KratomKorn...</td>\n",
       "    </tr>\n",
       "    <tr>\n",
       "      <th>4</th>\n",
       "      <td>GutenBourbon</td>\n",
       "      <td>male</td>\n",
       "      <td>unknown</td>\n",
       "      <td>0</td>\n",
       "      <td>spicy,holdmyfries,IAmA,AskOuija,UpliftingNews,...</td>\n",
       "    </tr>\n",
       "  </tbody>\n",
       "</table>\n",
       "</div>"
      ],
      "text/plain": [
       "       username gender orientation  age  \\\n",
       "0   SmootieFakk   male     unknown    0   \n",
       "1    dizzykitty   male     unknown    0   \n",
       "2  JoshSidekick   male     unknown    0   \n",
       "3  probywan1337   male     unknown    0   \n",
       "4  GutenBourbon   male     unknown    0   \n",
       "\n",
       "                                          subreddits  \n",
       "0  Overwatch,movies,aww,dndnext,reddit.com,politi...  \n",
       "1  nsfw_gifs,Overwatch,movies,AskRedditAfterDark,...  \n",
       "2  WayOfTheBern,pics,AnimalsBeingJerks,GetMotivat...  \n",
       "3  pics,LearnJapanese,GolfStory,bestof,KratomKorn...  \n",
       "4  spicy,holdmyfries,IAmA,AskOuija,UpliftingNews,...  "
      ]
     },
     "execution_count": 73,
     "metadata": {},
     "output_type": "execute_result"
    }
   ],
   "source": [
    "male_users = reddit_users_df[reddit_users_df['gender']=='male']\n",
    "female_users = reddit_users_df[reddit_users_df['gender']=='female']\n",
    "\n",
    "male_users.head()"
   ]
  },
  {
   "cell_type": "code",
   "execution_count": 74,
   "metadata": {},
   "outputs": [
    {
     "data": {
      "text/plain": [
       "10515                 fallout\n",
       "5780                 survivor\n",
       "9717             streetfights\n",
       "13803                   steam\n",
       "11017                politics\n",
       "5533                 notmyjob\n",
       "15887                  europe\n",
       "11792                     wtf\n",
       "358                 worldnews\n",
       "12934    damnthatsinteresting\n",
       "dtype: object"
      ]
     },
     "execution_count": 74,
     "metadata": {},
     "output_type": "execute_result"
    }
   ],
   "source": [
    "male_subs = pd.Series(pd.Series(\n",
    "    male_users['subreddits'].values).str.cat(sep=',').lower().split(',')\n",
    "                     )\n",
    "                     \n",
    "\n",
    "female_subs = pd.Series(pd.Series(\n",
    "    female_users['subreddits'].values).str.cat(sep=',').lower().split(',')\n",
    "                       )\n",
    "\n",
    "male_subs.sample(10)"
   ]
  },
  {
   "cell_type": "code",
   "execution_count": 75,
   "metadata": {},
   "outputs": [
    {
     "data": {
      "text/plain": [
       "askreddit        0.013701\n",
       "pics             0.010425\n",
       "funny            0.010226\n",
       "todayilearned    0.009631\n",
       "worldnews        0.009085\n",
       "dtype: float64"
      ]
     },
     "execution_count": 75,
     "metadata": {},
     "output_type": "execute_result"
    }
   ],
   "source": [
    "# This code counts word frequencies, and then normalizes by total number of words.\n",
    "# The result is the \"rate\" at which each subreddit appears.\n",
    "male_subs_rates = male_subs.value_counts() / len(male_subs)\n",
    "female_subs_rates = female_subs.value_counts() / len(female_subs)\n",
    "\n",
    "male_subs_rates.sort_values(ascending=False).head(5)"
   ]
  },
  {
   "cell_type": "code",
   "execution_count": 76,
   "metadata": {},
   "outputs": [
    {
     "data": {
      "text/plain": [
       "askreddit        0.017199\n",
       "funny            0.010206\n",
       "pics             0.010017\n",
       "todayilearned    0.009450\n",
       "news             0.008505\n",
       "dtype: float64"
      ]
     },
     "execution_count": 76,
     "metadata": {},
     "output_type": "execute_result"
    }
   ],
   "source": [
    "female_subs_rates.sort_values(ascending=False).head()"
   ]
  },
  {
   "cell_type": "code",
   "execution_count": 77,
   "metadata": {},
   "outputs": [
    {
     "data": {
      "text/plain": [
       "guns                    6.303813\n",
       "firstworldanarchists    5.253177\n",
       "bad_cop_no_donut        5.253177\n",
       "baseball                5.253177\n",
       "askouija                4.990518\n",
       "dtype: float64"
      ]
     },
     "execution_count": 77,
     "metadata": {},
     "output_type": "execute_result"
    }
   ],
   "source": [
    "# We can divide spam word rates by ham word rates to find words that occur more in spam subject lines.\n",
    "male_enriched_subs = (male_subs_rates / female_subs_rates).sort_values(ascending=False)\n",
    "male_enriched_subs.head(5)"
   ]
  },
  {
   "cell_type": "code",
   "execution_count": 78,
   "metadata": {},
   "outputs": [
    {
     "data": {
      "text/plain": [
       "makeupaddiction    22.843319\n",
       "wedding            15.228879\n",
       "transpassing       15.228879\n",
       "actuallesbians     15.228879\n",
       "polyamory          15.228879\n",
       "dtype: float64"
      ]
     },
     "execution_count": 78,
     "metadata": {},
     "output_type": "execute_result"
    }
   ],
   "source": [
    "# These words are ranked by how much more often they show up in ham subject lines.\n",
    "female_enriched_subs = (female_subs_rates / male_subs_rates).sort_values(ascending=False)\n",
    "female_enriched_subs.head(5)"
   ]
  },
  {
   "cell_type": "markdown",
   "metadata": {},
   "source": [
    "### Features"
   ]
  },
  {
   "cell_type": "code",
   "execution_count": 80,
   "metadata": {},
   "outputs": [
    {
     "data": {
      "text/html": [
       "<div>\n",
       "<style scoped>\n",
       "    .dataframe tbody tr th:only-of-type {\n",
       "        vertical-align: middle;\n",
       "    }\n",
       "\n",
       "    .dataframe tbody tr th {\n",
       "        vertical-align: top;\n",
       "    }\n",
       "\n",
       "    .dataframe thead th {\n",
       "        text-align: right;\n",
       "    }\n",
       "</style>\n",
       "<table border=\"1\" class=\"dataframe\">\n",
       "  <thead>\n",
       "    <tr style=\"text-align: right;\">\n",
       "      <th></th>\n",
       "      <th>username</th>\n",
       "      <th>gender</th>\n",
       "      <th>orientation</th>\n",
       "      <th>age</th>\n",
       "      <th>subreddits</th>\n",
       "    </tr>\n",
       "  </thead>\n",
       "  <tbody>\n",
       "    <tr>\n",
       "      <th>0</th>\n",
       "      <td>SmootieFakk</td>\n",
       "      <td>male</td>\n",
       "      <td>unknown</td>\n",
       "      <td>0</td>\n",
       "      <td>Overwatch,movies,aww,dndnext,reddit.com,politi...</td>\n",
       "    </tr>\n",
       "    <tr>\n",
       "      <th>1</th>\n",
       "      <td>dizzykitty</td>\n",
       "      <td>male</td>\n",
       "      <td>unknown</td>\n",
       "      <td>0</td>\n",
       "      <td>nsfw_gifs,Overwatch,movies,AskRedditAfterDark,...</td>\n",
       "    </tr>\n",
       "    <tr>\n",
       "      <th>2</th>\n",
       "      <td>JoshSidekick</td>\n",
       "      <td>male</td>\n",
       "      <td>unknown</td>\n",
       "      <td>0</td>\n",
       "      <td>WayOfTheBern,pics,AnimalsBeingJerks,GetMotivat...</td>\n",
       "    </tr>\n",
       "    <tr>\n",
       "      <th>3</th>\n",
       "      <td>probywan1337</td>\n",
       "      <td>male</td>\n",
       "      <td>unknown</td>\n",
       "      <td>0</td>\n",
       "      <td>pics,LearnJapanese,GolfStory,bestof,KratomKorn...</td>\n",
       "    </tr>\n",
       "    <tr>\n",
       "      <th>4</th>\n",
       "      <td>GutenBourbon</td>\n",
       "      <td>male</td>\n",
       "      <td>unknown</td>\n",
       "      <td>0</td>\n",
       "      <td>spicy,holdmyfries,IAmA,AskOuija,UpliftingNews,...</td>\n",
       "    </tr>\n",
       "  </tbody>\n",
       "</table>\n",
       "</div>"
      ],
      "text/plain": [
       "       username gender orientation  age  \\\n",
       "0   SmootieFakk   male     unknown    0   \n",
       "1    dizzykitty   male     unknown    0   \n",
       "2  JoshSidekick   male     unknown    0   \n",
       "3  probywan1337   male     unknown    0   \n",
       "4  GutenBourbon   male     unknown    0   \n",
       "\n",
       "                                          subreddits  \n",
       "0  Overwatch,movies,aww,dndnext,reddit.com,politi...  \n",
       "1  nsfw_gifs,Overwatch,movies,AskRedditAfterDark,...  \n",
       "2  WayOfTheBern,pics,AnimalsBeingJerks,GetMotivat...  \n",
       "3  pics,LearnJapanese,GolfStory,bestof,KratomKorn...  \n",
       "4  spicy,holdmyfries,IAmA,AskOuija,UpliftingNews,...  "
      ]
     },
     "execution_count": 80,
     "metadata": {},
     "output_type": "execute_result"
    }
   ],
   "source": [
    "reddit_users_df.head()"
   ]
  },
  {
   "cell_type": "code",
   "execution_count": 86,
   "metadata": {},
   "outputs": [],
   "source": [
    "# Let's get top subreddits.\n",
    "\n",
    "male_enrichment = 5\n",
    "female_enrichment = 10\n",
    "top_male_subreddits = male_enriched_subs[male_enriched_subs > male_enrichment].index.tolist()\n",
    "top_female_subreddits = female_enriched_subs[female_enriched_subs > female_enrichment].index.tolist()\n",
    "\n",
    "# For each of these subreddits, we will create a \"feature\" column.\n",
    "# If the word is in the subject line, we put a 1, otherwise, 0.\n",
    "for word in top_male_subreddits + top_female_subreddits:\n",
    "    reddit_users_df['feature_%s' % word] = reddit_users_df['subreddits'].str.lower().map(\n",
    "        lambda subject: word in subject\n",
    "    ).astype(int)"
   ]
  },
  {
   "cell_type": "code",
   "execution_count": 87,
   "metadata": {},
   "outputs": [
    {
     "data": {
      "text/html": [
       "<div>\n",
       "<style scoped>\n",
       "    .dataframe tbody tr th:only-of-type {\n",
       "        vertical-align: middle;\n",
       "    }\n",
       "\n",
       "    .dataframe tbody tr th {\n",
       "        vertical-align: top;\n",
       "    }\n",
       "\n",
       "    .dataframe thead th {\n",
       "        text-align: right;\n",
       "    }\n",
       "</style>\n",
       "<table border=\"1\" class=\"dataframe\">\n",
       "  <thead>\n",
       "    <tr style=\"text-align: right;\">\n",
       "      <th></th>\n",
       "      <th>username</th>\n",
       "      <th>gender</th>\n",
       "      <th>orientation</th>\n",
       "      <th>age</th>\n",
       "      <th>subreddits</th>\n",
       "      <th>feature_guns</th>\n",
       "      <th>feature_firstworldanarchists</th>\n",
       "      <th>feature_bad_cop_no_donut</th>\n",
       "      <th>feature_baseball</th>\n",
       "      <th>feature_makeupaddiction</th>\n",
       "      <th>...</th>\n",
       "      <th>feature_polyamory</th>\n",
       "      <th>feature_bpd</th>\n",
       "      <th>feature_india</th>\n",
       "      <th>feature_firstimpression</th>\n",
       "      <th>feature_gendercritical</th>\n",
       "      <th>feature_transtimelines</th>\n",
       "      <th>feature_askvet</th>\n",
       "      <th>feature_college</th>\n",
       "      <th>feature_sandiego</th>\n",
       "      <th>feature_saplings</th>\n",
       "    </tr>\n",
       "  </thead>\n",
       "  <tbody>\n",
       "    <tr>\n",
       "      <th>0</th>\n",
       "      <td>SmootieFakk</td>\n",
       "      <td>male</td>\n",
       "      <td>unknown</td>\n",
       "      <td>0</td>\n",
       "      <td>Overwatch,movies,aww,dndnext,reddit.com,politi...</td>\n",
       "      <td>0</td>\n",
       "      <td>0</td>\n",
       "      <td>0</td>\n",
       "      <td>0</td>\n",
       "      <td>0</td>\n",
       "      <td>...</td>\n",
       "      <td>0</td>\n",
       "      <td>0</td>\n",
       "      <td>0</td>\n",
       "      <td>0</td>\n",
       "      <td>0</td>\n",
       "      <td>0</td>\n",
       "      <td>0</td>\n",
       "      <td>0</td>\n",
       "      <td>0</td>\n",
       "      <td>0</td>\n",
       "    </tr>\n",
       "    <tr>\n",
       "      <th>1</th>\n",
       "      <td>dizzykitty</td>\n",
       "      <td>male</td>\n",
       "      <td>unknown</td>\n",
       "      <td>0</td>\n",
       "      <td>nsfw_gifs,Overwatch,movies,AskRedditAfterDark,...</td>\n",
       "      <td>0</td>\n",
       "      <td>0</td>\n",
       "      <td>0</td>\n",
       "      <td>0</td>\n",
       "      <td>0</td>\n",
       "      <td>...</td>\n",
       "      <td>0</td>\n",
       "      <td>0</td>\n",
       "      <td>0</td>\n",
       "      <td>0</td>\n",
       "      <td>0</td>\n",
       "      <td>0</td>\n",
       "      <td>0</td>\n",
       "      <td>0</td>\n",
       "      <td>0</td>\n",
       "      <td>0</td>\n",
       "    </tr>\n",
       "    <tr>\n",
       "      <th>2</th>\n",
       "      <td>JoshSidekick</td>\n",
       "      <td>male</td>\n",
       "      <td>unknown</td>\n",
       "      <td>0</td>\n",
       "      <td>WayOfTheBern,pics,AnimalsBeingJerks,GetMotivat...</td>\n",
       "      <td>0</td>\n",
       "      <td>0</td>\n",
       "      <td>0</td>\n",
       "      <td>0</td>\n",
       "      <td>0</td>\n",
       "      <td>...</td>\n",
       "      <td>0</td>\n",
       "      <td>0</td>\n",
       "      <td>0</td>\n",
       "      <td>0</td>\n",
       "      <td>0</td>\n",
       "      <td>0</td>\n",
       "      <td>0</td>\n",
       "      <td>0</td>\n",
       "      <td>0</td>\n",
       "      <td>0</td>\n",
       "    </tr>\n",
       "    <tr>\n",
       "      <th>3</th>\n",
       "      <td>probywan1337</td>\n",
       "      <td>male</td>\n",
       "      <td>unknown</td>\n",
       "      <td>0</td>\n",
       "      <td>pics,LearnJapanese,GolfStory,bestof,KratomKorn...</td>\n",
       "      <td>0</td>\n",
       "      <td>0</td>\n",
       "      <td>0</td>\n",
       "      <td>0</td>\n",
       "      <td>0</td>\n",
       "      <td>...</td>\n",
       "      <td>0</td>\n",
       "      <td>0</td>\n",
       "      <td>0</td>\n",
       "      <td>0</td>\n",
       "      <td>0</td>\n",
       "      <td>0</td>\n",
       "      <td>0</td>\n",
       "      <td>0</td>\n",
       "      <td>0</td>\n",
       "      <td>0</td>\n",
       "    </tr>\n",
       "    <tr>\n",
       "      <th>4</th>\n",
       "      <td>GutenBourbon</td>\n",
       "      <td>male</td>\n",
       "      <td>unknown</td>\n",
       "      <td>0</td>\n",
       "      <td>spicy,holdmyfries,IAmA,AskOuija,UpliftingNews,...</td>\n",
       "      <td>0</td>\n",
       "      <td>0</td>\n",
       "      <td>0</td>\n",
       "      <td>0</td>\n",
       "      <td>0</td>\n",
       "      <td>...</td>\n",
       "      <td>0</td>\n",
       "      <td>0</td>\n",
       "      <td>0</td>\n",
       "      <td>0</td>\n",
       "      <td>0</td>\n",
       "      <td>0</td>\n",
       "      <td>0</td>\n",
       "      <td>0</td>\n",
       "      <td>0</td>\n",
       "      <td>0</td>\n",
       "    </tr>\n",
       "  </tbody>\n",
       "</table>\n",
       "<p>5 rows × 23 columns</p>\n",
       "</div>"
      ],
      "text/plain": [
       "       username gender orientation  age  \\\n",
       "0   SmootieFakk   male     unknown    0   \n",
       "1    dizzykitty   male     unknown    0   \n",
       "2  JoshSidekick   male     unknown    0   \n",
       "3  probywan1337   male     unknown    0   \n",
       "4  GutenBourbon   male     unknown    0   \n",
       "\n",
       "                                          subreddits  feature_guns  \\\n",
       "0  Overwatch,movies,aww,dndnext,reddit.com,politi...             0   \n",
       "1  nsfw_gifs,Overwatch,movies,AskRedditAfterDark,...             0   \n",
       "2  WayOfTheBern,pics,AnimalsBeingJerks,GetMotivat...             0   \n",
       "3  pics,LearnJapanese,GolfStory,bestof,KratomKorn...             0   \n",
       "4  spicy,holdmyfries,IAmA,AskOuija,UpliftingNews,...             0   \n",
       "\n",
       "   feature_firstworldanarchists  feature_bad_cop_no_donut  feature_baseball  \\\n",
       "0                             0                         0                 0   \n",
       "1                             0                         0                 0   \n",
       "2                             0                         0                 0   \n",
       "3                             0                         0                 0   \n",
       "4                             0                         0                 0   \n",
       "\n",
       "   feature_makeupaddiction        ...         feature_polyamory  feature_bpd  \\\n",
       "0                        0        ...                         0            0   \n",
       "1                        0        ...                         0            0   \n",
       "2                        0        ...                         0            0   \n",
       "3                        0        ...                         0            0   \n",
       "4                        0        ...                         0            0   \n",
       "\n",
       "   feature_india  feature_firstimpression  feature_gendercritical  \\\n",
       "0              0                        0                       0   \n",
       "1              0                        0                       0   \n",
       "2              0                        0                       0   \n",
       "3              0                        0                       0   \n",
       "4              0                        0                       0   \n",
       "\n",
       "   feature_transtimelines  feature_askvet  feature_college  feature_sandiego  \\\n",
       "0                       0               0                0                 0   \n",
       "1                       0               0                0                 0   \n",
       "2                       0               0                0                 0   \n",
       "3                       0               0                0                 0   \n",
       "4                       0               0                0                 0   \n",
       "\n",
       "   feature_saplings  \n",
       "0                 0  \n",
       "1                 0  \n",
       "2                 0  \n",
       "3                 0  \n",
       "4                 0  \n",
       "\n",
       "[5 rows x 23 columns]"
      ]
     },
     "execution_count": 87,
     "metadata": {},
     "output_type": "execute_result"
    }
   ],
   "source": [
    "reddit_users_df.head()"
   ]
  },
  {
   "cell_type": "code",
   "execution_count": 91,
   "metadata": {},
   "outputs": [
    {
     "data": {
      "text/plain": [
       "21"
      ]
     },
     "execution_count": 91,
     "metadata": {},
     "output_type": "execute_result"
    }
   ],
   "source": [
    "len(reddit_users_df.columns)-2"
   ]
  },
  {
   "cell_type": "markdown",
   "metadata": {},
   "source": [
    "It's generally a good idea to explore the distribution of your features."
   ]
  },
  {
   "cell_type": "code",
   "execution_count": 92,
   "metadata": {},
   "outputs": [
    {
     "data": {
      "text/plain": [
       "0    478\n",
       "1     33\n",
       "Name: feature_guns, dtype: int64"
      ]
     },
     "execution_count": 92,
     "metadata": {},
     "output_type": "execute_result"
    }
   ],
   "source": [
    "\n",
    "reddit_users_df['feature_guns'].value_counts()"
   ]
  },
  {
   "cell_type": "code",
   "execution_count": 93,
   "metadata": {},
   "outputs": [
    {
     "data": {
      "text/html": [
       "<div>\n",
       "<style scoped>\n",
       "    .dataframe tbody tr th:only-of-type {\n",
       "        vertical-align: middle;\n",
       "    }\n",
       "\n",
       "    .dataframe tbody tr th {\n",
       "        vertical-align: top;\n",
       "    }\n",
       "\n",
       "    .dataframe thead th {\n",
       "        text-align: right;\n",
       "    }\n",
       "</style>\n",
       "<table border=\"1\" class=\"dataframe\">\n",
       "  <thead>\n",
       "    <tr style=\"text-align: right;\">\n",
       "      <th>gender</th>\n",
       "      <th>female</th>\n",
       "      <th>male</th>\n",
       "    </tr>\n",
       "    <tr>\n",
       "      <th>feature_guns</th>\n",
       "      <th></th>\n",
       "      <th></th>\n",
       "    </tr>\n",
       "  </thead>\n",
       "  <tbody>\n",
       "    <tr>\n",
       "      <th>0</th>\n",
       "      <td>137</td>\n",
       "      <td>341</td>\n",
       "    </tr>\n",
       "    <tr>\n",
       "      <th>1</th>\n",
       "      <td>2</td>\n",
       "      <td>31</td>\n",
       "    </tr>\n",
       "  </tbody>\n",
       "</table>\n",
       "</div>"
      ],
      "text/plain": [
       "gender        female  male\n",
       "feature_guns              \n",
       "0                137   341\n",
       "1                  2    31"
      ]
     },
     "execution_count": 93,
     "metadata": {},
     "output_type": "execute_result"
    }
   ],
   "source": [
    "\n",
    "pd.crosstab(reddit_users_df['feature_guns'], reddit_users_df['gender'])"
   ]
  },
  {
   "cell_type": "code",
   "execution_count": null,
   "metadata": {},
   "outputs": [],
   "source": []
  },
  {
   "cell_type": "markdown",
   "metadata": {},
   "source": [
    "### Random forest model version 1"
   ]
  },
  {
   "cell_type": "code",
   "execution_count": 100,
   "metadata": {},
   "outputs": [
    {
     "data": {
      "text/plain": [
       "['feature_guns',\n",
       " 'feature_firstworldanarchists',\n",
       " 'feature_bad_cop_no_donut',\n",
       " 'feature_baseball',\n",
       " 'feature_makeupaddiction',\n",
       " 'feature_wedding',\n",
       " 'feature_transpassing',\n",
       " 'feature_actuallesbians',\n",
       " 'feature_polyamory',\n",
       " 'feature_bpd',\n",
       " 'feature_india',\n",
       " 'feature_firstimpression',\n",
       " 'feature_gendercritical',\n",
       " 'feature_transtimelines',\n",
       " 'feature_askvet',\n",
       " 'feature_college',\n",
       " 'feature_sandiego',\n",
       " 'feature_saplings']"
      ]
     },
     "execution_count": 100,
     "metadata": {},
     "output_type": "execute_result"
    }
   ],
   "source": [
    "# Our model will need to know which columns contain features.\n",
    "features = [col for col in reddit_users_df if col.startswith('feature')]\n",
    "features"
   ]
  },
  {
   "cell_type": "code",
   "execution_count": 101,
   "metadata": {},
   "outputs": [
    {
     "data": {
      "text/plain": [
       "18"
      ]
     },
     "execution_count": 101,
     "metadata": {},
     "output_type": "execute_result"
    }
   ],
   "source": [
    "len(features)"
   ]
  },
  {
   "cell_type": "code",
   "execution_count": 102,
   "metadata": {},
   "outputs": [],
   "source": [
    "features.append('gender')"
   ]
  },
  {
   "cell_type": "code",
   "execution_count": 128,
   "metadata": {},
   "outputs": [
    {
     "data": {
      "text/html": [
       "<div>\n",
       "<style scoped>\n",
       "    .dataframe tbody tr th:only-of-type {\n",
       "        vertical-align: middle;\n",
       "    }\n",
       "\n",
       "    .dataframe tbody tr th {\n",
       "        vertical-align: top;\n",
       "    }\n",
       "\n",
       "    .dataframe thead th {\n",
       "        text-align: right;\n",
       "    }\n",
       "</style>\n",
       "<table border=\"1\" class=\"dataframe\">\n",
       "  <thead>\n",
       "    <tr style=\"text-align: right;\">\n",
       "      <th></th>\n",
       "      <th>feature_guns</th>\n",
       "      <th>feature_firstworldanarchists</th>\n",
       "      <th>feature_bad_cop_no_donut</th>\n",
       "      <th>feature_baseball</th>\n",
       "      <th>feature_makeupaddiction</th>\n",
       "      <th>feature_wedding</th>\n",
       "      <th>feature_transpassing</th>\n",
       "      <th>feature_actuallesbians</th>\n",
       "      <th>feature_polyamory</th>\n",
       "      <th>feature_bpd</th>\n",
       "      <th>feature_india</th>\n",
       "      <th>feature_firstimpression</th>\n",
       "      <th>feature_gendercritical</th>\n",
       "      <th>feature_transtimelines</th>\n",
       "      <th>feature_askvet</th>\n",
       "      <th>feature_college</th>\n",
       "      <th>feature_sandiego</th>\n",
       "      <th>feature_saplings</th>\n",
       "      <th>gender</th>\n",
       "    </tr>\n",
       "  </thead>\n",
       "  <tbody>\n",
       "    <tr>\n",
       "      <th>0</th>\n",
       "      <td>0</td>\n",
       "      <td>0</td>\n",
       "      <td>0</td>\n",
       "      <td>0</td>\n",
       "      <td>0</td>\n",
       "      <td>0</td>\n",
       "      <td>0</td>\n",
       "      <td>0</td>\n",
       "      <td>0</td>\n",
       "      <td>0</td>\n",
       "      <td>0</td>\n",
       "      <td>0</td>\n",
       "      <td>0</td>\n",
       "      <td>0</td>\n",
       "      <td>0</td>\n",
       "      <td>0</td>\n",
       "      <td>0</td>\n",
       "      <td>0</td>\n",
       "      <td>1</td>\n",
       "    </tr>\n",
       "    <tr>\n",
       "      <th>1</th>\n",
       "      <td>0</td>\n",
       "      <td>0</td>\n",
       "      <td>0</td>\n",
       "      <td>0</td>\n",
       "      <td>0</td>\n",
       "      <td>0</td>\n",
       "      <td>0</td>\n",
       "      <td>0</td>\n",
       "      <td>0</td>\n",
       "      <td>0</td>\n",
       "      <td>0</td>\n",
       "      <td>0</td>\n",
       "      <td>0</td>\n",
       "      <td>0</td>\n",
       "      <td>0</td>\n",
       "      <td>0</td>\n",
       "      <td>0</td>\n",
       "      <td>0</td>\n",
       "      <td>1</td>\n",
       "    </tr>\n",
       "    <tr>\n",
       "      <th>2</th>\n",
       "      <td>0</td>\n",
       "      <td>0</td>\n",
       "      <td>0</td>\n",
       "      <td>0</td>\n",
       "      <td>0</td>\n",
       "      <td>0</td>\n",
       "      <td>0</td>\n",
       "      <td>0</td>\n",
       "      <td>0</td>\n",
       "      <td>0</td>\n",
       "      <td>0</td>\n",
       "      <td>0</td>\n",
       "      <td>0</td>\n",
       "      <td>0</td>\n",
       "      <td>0</td>\n",
       "      <td>0</td>\n",
       "      <td>0</td>\n",
       "      <td>0</td>\n",
       "      <td>1</td>\n",
       "    </tr>\n",
       "    <tr>\n",
       "      <th>3</th>\n",
       "      <td>0</td>\n",
       "      <td>0</td>\n",
       "      <td>0</td>\n",
       "      <td>0</td>\n",
       "      <td>0</td>\n",
       "      <td>0</td>\n",
       "      <td>0</td>\n",
       "      <td>0</td>\n",
       "      <td>0</td>\n",
       "      <td>0</td>\n",
       "      <td>0</td>\n",
       "      <td>0</td>\n",
       "      <td>0</td>\n",
       "      <td>0</td>\n",
       "      <td>0</td>\n",
       "      <td>0</td>\n",
       "      <td>0</td>\n",
       "      <td>0</td>\n",
       "      <td>1</td>\n",
       "    </tr>\n",
       "    <tr>\n",
       "      <th>4</th>\n",
       "      <td>0</td>\n",
       "      <td>0</td>\n",
       "      <td>0</td>\n",
       "      <td>0</td>\n",
       "      <td>0</td>\n",
       "      <td>0</td>\n",
       "      <td>0</td>\n",
       "      <td>0</td>\n",
       "      <td>0</td>\n",
       "      <td>0</td>\n",
       "      <td>0</td>\n",
       "      <td>0</td>\n",
       "      <td>0</td>\n",
       "      <td>0</td>\n",
       "      <td>0</td>\n",
       "      <td>0</td>\n",
       "      <td>0</td>\n",
       "      <td>0</td>\n",
       "      <td>1</td>\n",
       "    </tr>\n",
       "  </tbody>\n",
       "</table>\n",
       "</div>"
      ],
      "text/plain": [
       "   feature_guns  feature_firstworldanarchists  feature_bad_cop_no_donut  \\\n",
       "0             0                             0                         0   \n",
       "1             0                             0                         0   \n",
       "2             0                             0                         0   \n",
       "3             0                             0                         0   \n",
       "4             0                             0                         0   \n",
       "\n",
       "   feature_baseball  feature_makeupaddiction  feature_wedding  \\\n",
       "0                 0                        0                0   \n",
       "1                 0                        0                0   \n",
       "2                 0                        0                0   \n",
       "3                 0                        0                0   \n",
       "4                 0                        0                0   \n",
       "\n",
       "   feature_transpassing  feature_actuallesbians  feature_polyamory  \\\n",
       "0                     0                       0                  0   \n",
       "1                     0                       0                  0   \n",
       "2                     0                       0                  0   \n",
       "3                     0                       0                  0   \n",
       "4                     0                       0                  0   \n",
       "\n",
       "   feature_bpd  feature_india  feature_firstimpression  \\\n",
       "0            0              0                        0   \n",
       "1            0              0                        0   \n",
       "2            0              0                        0   \n",
       "3            0              0                        0   \n",
       "4            0              0                        0   \n",
       "\n",
       "   feature_gendercritical  feature_transtimelines  feature_askvet  \\\n",
       "0                       0                       0               0   \n",
       "1                       0                       0               0   \n",
       "2                       0                       0               0   \n",
       "3                       0                       0               0   \n",
       "4                       0                       0               0   \n",
       "\n",
       "   feature_college  feature_sandiego  feature_saplings  gender  \n",
       "0                0                 0                 0       1  \n",
       "1                0                 0                 0       1  \n",
       "2                0                 0                 0       1  \n",
       "3                0                 0                 0       1  \n",
       "4                0                 0                 0       1  "
      ]
     },
     "execution_count": 128,
     "metadata": {},
     "output_type": "execute_result"
    }
   ],
   "source": [
    "data = reddit_users_df[features]\n",
    "data = data.replace({'male':1, 'female':0})\n",
    "data.head()"
   ]
  },
  {
   "cell_type": "code",
   "execution_count": null,
   "metadata": {},
   "outputs": [],
   "source": []
  },
  {
   "cell_type": "code",
   "execution_count": 129,
   "metadata": {},
   "outputs": [],
   "source": [
    "import pandas as pd\n",
    "import numpy as np\n",
    "try:\n",
    "    import cPickle as pickle\n",
    "except ModuleNotFoundError:\n",
    "    import pickle\n",
    "\n",
    "import matplotlib.pyplot as plt\n",
    "\n",
    "from sklearn import metrics\n",
    "from sklearn.model_selection import GridSearchCV, train_test_split\n",
    "\n",
    "from sklearn.tree import DecisionTreeClassifier\n",
    "from sklearn.ensemble import AdaBoostClassifier, RandomForestClassifier, GradientBoostingClassifier\n",
    "from sklearn.neural_network import MLPClassifier\n",
    "\n",
    "\n",
    "def save_model(model, path='model.pkl'):\n",
    "    \"\"\"\n",
    "    Saves the best model found by the GridSearch for use on the website\n",
    "    ------------\n",
    "    Input\n",
    "    -----------\n",
    "    path: String indicating pickle location\n",
    "    ------------\n",
    "    Returns\n",
    "    ------------\n",
    "    None\n",
    "    \"\"\"\n",
    "    with open(path, 'wb') as f:\n",
    "        pickle.dump(model, f)\n",
    "\n",
    "def run_gridsearch(df, models, target='is_fraud', path='model.pkl', \\\n",
    "                    scoring='recall', verbose=True, show_figs=False, \\\n",
    "                    test_size=0.2, cv=5):\n",
    "    \"\"\"\n",
    "    Runs a grid search and saves the best model for use on the website\n",
    "    ------------\n",
    "    Input\n",
    "    ------------\n",
    "    # Could change language to reflect other data types that should still work?\n",
    "\n",
    "    df: Pandas Dataframe with column labeled input param target\n",
    "    models: List of Tuples of (model, parameters)\n",
    "    target: String indicating which column is the target variable\n",
    "    path: String of path for pickle file to save model (default='model.pkl')\n",
    "    scoring: String scoring metric to use (default='recall')\n",
    "    verbose: Bool Prints scores during fit (default=True)\n",
    "\n",
    "    ------------\n",
    "    Returns\n",
    "    ------------\n",
    "    None\n",
    "    \"\"\"\n",
    "\n",
    "\n",
    "    # SKlearn models take numbers to indicate verbosity\n",
    "    # We want to be able to output nothing (verbose=False), the outputs defined\n",
    "    # in this function (verbose=True) or the indicated verbosity level\n",
    "    # (verbose = int).\n",
    "    # Verbosity sets the verbosity of the grid search. Verbosity of indivicual\n",
    "    # models is set below because some models do not have the parameter\n",
    "\n",
    "    if verbose > 1:\n",
    "        verbosity = verbose\n",
    "    elif verbose is 1:\n",
    "        verbosity = 1\n",
    "    else:\n",
    "        verbosity = 0\n",
    "\n",
    "    # Set up flexible fbeta scoring\n",
    "    if 'f' in scoring or 'F' in scoring and scoring != 'f1':\n",
    "        beta = float(scoring.replace('f',''))\n",
    "        scorer = metrics.make_scorer(metrics.fbeta_score, beta=beta)\n",
    "    else:\n",
    "        scorer = scoring\n",
    "\n",
    "\n",
    "    # Store the best model\n",
    "    best_models = []\n",
    "\n",
    "    # Split the target variable from the data\n",
    "    y = df.pop(target)\n",
    "\n",
    "    # Perform train test split\n",
    "    # GridSearchCV performs 3-fold cross validation. Verify best model with test\n",
    "    # data\n",
    "    X_train, X_test, y_train, y_test = train_test_split(df, y, \\\n",
    "                                                        test_size=test_size)\n",
    "\n",
    "    # Provide weights to the models if classes are imblanaced\n",
    "    # Get the ratio of the positive class to the negative class\n",
    "    # immediately convert to a weight (1/ratio)\n",
    "    # weight = len(y_train)/float(sum(y_train))\n",
    "\n",
    "    # Generate array wtih ratio of 1/ratio (i.e., weight):1 to balance classes\n",
    "    # sw_train = [weight * y if y == 1 else 1 for y in y_train]\n",
    "    \n",
    "    sw_train = y_train\n",
    "\n",
    "    # Grid search the models\n",
    "    for classifier, parameters in models:\n",
    "        # Not to be confused with best estimator name, which is used at the end\n",
    "        clf_name = classifier.__class__.__name__\n",
    "        # Set some verbosity options differentiating between 1 and True\n",
    "        # where True only outputs Grid Search and this function's outputs\n",
    "        # and >= 1 will output the verbosity levels from the models\n",
    "        if 'verbose' in dir(classifier):\n",
    "            if verbose is 1:  # True == 1 -> True; True is 1 -> False\n",
    "                parameters['verbose'] = [1]\n",
    "            elif verbose > 1:\n",
    "                parameters['verbose'] = [verbose]\n",
    "\n",
    "        print('==============================')\n",
    "        print('Fitting {}...'.format(clf_name))\n",
    "        clf = GridSearchCV(classifier, parameters, scoring=scorer, \\\n",
    "                                verbose=verbosity, cv=cv)\n",
    "        clf.fit(X_train, y_train, sample_weight=sw_train)\n",
    "\n",
    "        # Make predictions and get scores\n",
    "        y_pred = clf.predict(X_test)\n",
    "        y_probs = clf.predict_proba(X_test)\n",
    "        precision_score = metrics.precision_score(y_test, y_pred)\n",
    "        recall_score = metrics.recall_score(y_test, y_pred)\n",
    "        f1_score = metrics.f1_score(y_test, y_pred)\n",
    "        auc_score = metrics.roc_auc_score(y_test, y_probs[:,1])\n",
    "        accuracy_score = metrics.accuracy_score(y_test, y_pred)\n",
    "        if 'f' in scoring and scoring != 'f1':\n",
    "            fb_score = metrics.fbeta_score(y_test, y_pred, beta)\n",
    "\n",
    "\n",
    "        # Print out scores\n",
    "        if verbose:\n",
    "            print('==============================')\n",
    "            print('Best Parameters for {}'.format(clf_name))\n",
    "            for k,v in clf.best_params_.items():\n",
    "                print('{}: {}'.format(k,v))\n",
    "            if 'feature_importances_' in dir(clf.best_estimator_):\n",
    "                print('==============================')\n",
    "                print('Features ordered by importance:')\n",
    "                top_features = np.argsort(clf.best_estimator_.feature_importances_)\n",
    "                for i, feat in enumerate(df.columns[top_features][::-1]):\n",
    "                    print('{}. {}'.format(i+1, feat))\n",
    "                # Verify the correct order\n",
    "                #print(clf.best_estimator_.feature_importances_[top_features][::-1])\n",
    "\n",
    "            print('==============================')\n",
    "            print('Confusion Matrix:')\n",
    "            print(metrics.confusion_matrix(y_test, y_pred))\n",
    "            print('Recall Score:\\t\\t{:.3f}'.format(recall_score))\n",
    "            print('Accuracy Score:\\t\\t{:.3f}'.format(accuracy_score))\n",
    "            print('Precision Score:\\t{:.3f}'.format(precision_score))\n",
    "            print('F1 Score:\\t\\t{:.3f}'.format(f1_score))\n",
    "            print('ROC AUC Score:\\t\\t{:.3f}'.format(auc_score))\n",
    "            if 'f' in scoring and scoring != 'f1':\n",
    "                print('F{:.1f} Score:\\t\\t{:.3f}'.format(beta, fb_score))\n",
    "            print('==============================')\n",
    "\n",
    "        if show_figs:\n",
    "\n",
    "            precision, recall, _ = metrics.precision_recall_curve(y_test, \\\n",
    "                                                                y_probs[:,1])\n",
    "            plt.plot(recall, precision)\n",
    "            plt.title('Precision-Recall curve For {}'.format(clf_name))\n",
    "            plt.xlabel('Recall')\n",
    "            plt.ylabel('Precision')\n",
    "            plt.show()\n",
    "\n",
    "            fpr, tpr, _ = metrics.roc_curve(y_test, y_probs[:,1])\n",
    "            plt.plot(fpr, tpr)\n",
    "            plt.title('ROC Curve for {}'.format(clf_name))\n",
    "            plt.xlabel('False Positive Rate')\n",
    "            plt.ylabel('True Positive Rate')\n",
    "            plt.show()\n",
    "\n",
    "        # Pick store the model using the indicated metric\n",
    "        if scoring=='recall':\n",
    "            best_models.append((recall_score, clf))\n",
    "        elif scoring=='precision':\n",
    "            best_models.append((precision_score, clf))\n",
    "        elif scoring=='f1':\n",
    "            best_models.append((f1_score, clf))\n",
    "        elif scoring=='roc_auc':\n",
    "            best_models.append((auc_score, clf))\n",
    "        elif scoring=='accuracy':\n",
    "            best_models.append((accuracy_score, clf))\n",
    "        else: # FBeta\n",
    "            best_models.append((fb_score, clf))\n",
    "\n",
    "    # Save the best model\n",
    "    best_models.sort() # sort by the score indicated above\n",
    "    # different from clf_name, which is the name of the current edmodel\n",
    "    best_model_name = best_models[-1][1].best_estimator_.__class__.__name__\n",
    "    print('Best model: {}'.format(best_model_name))\n",
    "    print('Best {} score: {:.3f}'.format(scoring, best_models[-1][0]))\n",
    "    save_model(best_models[-1][1], path)\n"
   ]
  },
  {
   "cell_type": "code",
   "execution_count": 130,
   "metadata": {},
   "outputs": [
    {
     "name": "stdout",
     "output_type": "stream",
     "text": [
      "Running gridsearch...\n",
      "==============================\n",
      "Fitting RandomForestClassifier...\n",
      "==============================\n",
      "Best Parameters for RandomForestClassifier\n",
      "max_depth: 5\n",
      "max_features: auto\n",
      "max_leaf_nodes: None\n",
      "min_impurity_decrease: 0\n",
      "min_samples_leaf: 1\n",
      "min_samples_split: 2\n",
      "n_estimators: 200\n",
      "n_jobs: 3\n",
      "oob_score: False\n",
      "==============================\n",
      "Features ordered by importance:\n",
      "1. feature_saplings\n",
      "2. feature_sandiego\n",
      "3. feature_firstworldanarchists\n",
      "4. feature_bad_cop_no_donut\n",
      "5. feature_baseball\n",
      "6. feature_makeupaddiction\n",
      "7. feature_wedding\n",
      "8. feature_transpassing\n",
      "9. feature_actuallesbians\n",
      "10. feature_polyamory\n",
      "11. feature_bpd\n",
      "12. feature_india\n",
      "13. feature_firstimpression\n",
      "14. feature_gendercritical\n",
      "15. feature_transtimelines\n",
      "16. feature_askvet\n",
      "17. feature_college\n",
      "18. feature_guns\n",
      "==============================\n",
      "Confusion Matrix:\n",
      "[[ 0 24]\n",
      " [ 0 79]]\n",
      "Recall Score:\t\t1.000\n",
      "Accuracy Score:\t\t0.767\n",
      "Precision Score:\t0.767\n",
      "F1 Score:\t\t0.868\n",
      "ROC AUC Score:\t\t0.500\n",
      "F2.0 Score:\t\t0.943\n",
      "==============================\n"
     ]
    },
    {
     "data": {
      "image/png": "[encoded data removed]",
      "text/plain": [
       "<matplotlib.figure.Figure at 0x7f3042ee6a20>"
      ]
     },
     "metadata": {},
     "output_type": "display_data"
    },
    {
     "data": {
      "image/png": "[encoded data removed]",
      "text/plain": [
       "<matplotlib.figure.Figure at 0x7f3042f09fd0>"
      ]
     },
     "metadata": {},
     "output_type": "display_data"
    },
    {
     "name": "stdout",
     "output_type": "stream",
     "text": [
      "Best model: RandomForestClassifier\n",
      "Best f2 score: 0.943\n"
     ]
    }
   ],
   "source": [
    "# gb = GradientBoostingClassifier()\n",
    "# gb_params = {\n",
    "#                 'learning_rate': [0.1],\n",
    "#                 'n_estimators': [200],\n",
    "#                 'max_depth' : [5],\n",
    "#                 'min_samples_split': [2],\n",
    "#                 'min_samples_leaf': [1],\n",
    "#                 'min_weight_fraction_leaf': [0.],\n",
    "#                 'subsample': [0.9],\n",
    "#                 'max_features' : ['auto'],\n",
    "#                 'max_leaf_nodes': [None],\n",
    "#                 'min_impurity_decrease': [0.]\n",
    "#              }\n",
    "# gb_options = (gb, gb_params)\n",
    "\n",
    "ada = AdaBoostClassifier()\n",
    "ada_params = {\n",
    "                'base_estimator':[RandomForestClassifier()], # DecisionTreeClassifier(),\n",
    "                'n_estimators': [200],\n",
    "                'learning_rate': [1.]\n",
    "             }\n",
    "ada_options = (ada, ada_params)\n",
    "\n",
    "rf = RandomForestClassifier()\n",
    "rf_params = {\n",
    "                'n_estimators':[200],\n",
    "                'max_features': ['auto', None],\n",
    "                'max_depth': [5],\n",
    "                'min_samples_split': [2], # min 2\n",
    "                'min_samples_leaf': [1],\n",
    "                'max_leaf_nodes' : [None],\n",
    "                'min_impurity_decrease': [0],\n",
    "                'oob_score': [False],\n",
    "                'n_jobs': [3], # left myslef 1 core\n",
    "            }\n",
    "rf_options = (rf, rf_params)\n",
    "\n",
    "# Performs terribly probably because it doesn't take sample weights\n",
    "# Some other oversampling technqiue could be useful\n",
    "# nn = MLPClassifier()\n",
    "# nn_params = {\n",
    "#                 'hidden_layer_sizes': [(100), (100,100), (100,100,100)],\n",
    "#                 'activation': ['tanh', 'relu'],\n",
    "#                 'early_stopping': [False],\n",
    "#                 'max_iter' : [200,2000,10000]\n",
    "#             }\n",
    "# nn_options = (nn, nn_params)\n",
    "\n",
    "# print('Loading clean data from pickle...')\n",
    "# data = pd.read_pickle('data/cleaned_data.pkl')\n",
    "print('Running gridsearch...')\n",
    "run_gridsearch(data, [rf_options], scoring='f2', show_figs=True, target='gender')"
   ]
  },
  {
   "cell_type": "code",
   "execution_count": null,
   "metadata": {},
   "outputs": [],
   "source": []
  },
  {
   "cell_type": "code",
   "execution_count": null,
   "metadata": {},
   "outputs": [],
   "source": []
  },
  {
   "cell_type": "code",
   "execution_count": null,
   "metadata": {},
   "outputs": [],
   "source": []
  },
  {
   "cell_type": "code",
   "execution_count": 59,
   "metadata": {},
   "outputs": [
    {
     "data": {
      "text/plain": [
       "RandomForestClassifier(bootstrap=True, class_weight=None, criterion='gini',\n",
       "            max_depth=None, max_features='auto', max_leaf_nodes=None,\n",
       "            min_impurity_decrease=0.0, min_impurity_split=None,\n",
       "            min_samples_leaf=1, min_samples_split=2,\n",
       "            min_weight_fraction_leaf=0.0, n_estimators=32, n_jobs=-1,\n",
       "            oob_score=False, random_state=None, verbose=0,\n",
       "            warm_start=False)"
      ]
     },
     "execution_count": 59,
     "metadata": {},
     "output_type": "execute_result"
    }
   ],
   "source": [
    "# Create a new classifier\n",
    "rf_clf_v1 = ensemble.RandomForestClassifier( # http://scikit-learn.org/stable/modules/generated/sklearn.ensemble.RandomForestClassifier.html\n",
    "    n_estimators=32, # How many trees? More is better, but slower.\n",
    "    n_jobs=-1\n",
    ")"
   ]
  },
  {
   "cell_type": "code",
   "execution_count": 60,
   "metadata": {},
   "outputs": [
    {
     "name": "stdout",
     "output_type": "stream",
     "text": [
      "Random Forest v1 TRAIN accuracy is: 91.55%\n",
      "Random Forest v1 TEST accuracy is: 87.47%\n"
     ]
    }
   ],
   "source": [
    "# Make predictions\n",
    "rf_v1_predictions_train = rf_clf_v1.predict(rga_TRAIN_df[features])\n",
    "rf_v1_predictions_test = rf_clf_v1.predict(rga_TEST_df[features])\n",
    "\n",
    "# Measure accuracy\n",
    "rf_v1_acc_train = metrics.accuracy_score(rga_TRAIN_df['label'], rf_v1_predictions_train)\n",
    "rf_v1_acc_test = metrics.accuracy_score(rga_TEST_df['label'], rf_v1_predictions_test)\n",
    "\n",
    "print('Random Forest v1 TRAIN accuracy is: %.2f%%' % (rf_v1_acc_train*100))\n",
    "print('Random Forest v1 TEST accuracy is: %.2f%%' % (rf_v1_acc_test*100))"
   ]
  },
  {
   "cell_type": "markdown",
   "metadata": {},
   "source": [
    "Note the significant gap between train and test accuracy. The Random Forest algorithm can fit very tightly to data, sometimes too tightly. This is called \"overfitting.\" We can see from the train/test accuracy gap that our model is fitting to aspects of the data that matter only for the training set, and don't generalize well.  \n",
    "\n",
    "This is why we test! What can we do about it? More data is the best solution. As the amount of data you have increases, the gap between train and test accuracy generally *decreases*."
   ]
  },
  {
   "cell_type": "code",
   "execution_count": null,
   "metadata": {},
   "outputs": [
    {
     "data": {
      "image/png": "[encoded data removed]",
      "text/plain": [
       "<matplotlib.figure.Figure at 0x7f8d51c09048>"
      ]
     },
     "metadata": {},
     "output_type": "display_data"
    }
   ],
   "source": [
    "# This code trains models using a range of training set sizes and plots the train and test accuracy.\n",
    "\n",
    "# Here's the model we're going to evaluate\n",
    "rf_clf_v1_lc = ensemble.RandomForestClassifier( # http://scikit-learn.org/stable/modules/generated/sklearn.ensemble.RandomForestClassifier.html\n",
    "    n_estimators=8, # How many trees? More is better, but slower.\n",
    "    n_jobs=-1\n",
    ")\n",
    "\n",
    "# This function trains multiple models, 3 for each train size, and returns train and test score.\n",
    "train_sizes, train_scores, test_scores = model_selection.learning_curve(\n",
    "    rf_clf_v1_lc,\n",
    "    rga_TRAIN_df[features],\n",
    "    rga_TRAIN_df['label'],\n",
    "    cv=3,\n",
    "    train_sizes=[100, 200, 500, 1000, 2000, 5000, 10000, 20000]\n",
    ")\n",
    "\n",
    "# We average together scores from the 3 runs at each size\n",
    "train_scores_mean = 100*train_scores.mean(axis=1)\n",
    "train_scores_std = 100*train_scores.std(axis=1)\n",
    "test_scores_mean = 100*test_scores.mean(axis=1)\n",
    "test_scores_std = 100*test_scores.std(axis=1)\n",
    "\n",
    "# Finally, let's plot the results\n",
    "matplotlib.pyplot.figure()\n",
    "matplotlib.pyplot.title('Train and Test Accurcy by Training Examples', y=1.02)\n",
    "matplotlib.pyplot.xlabel('Training Examples')\n",
    "matplotlib.pyplot.ylabel('Accuracy (%)')\n",
    "matplotlib.pyplot.grid()\n",
    "matplotlib.pyplot.fill_between(train_sizes, train_scores_mean - train_scores_std,\n",
    "                     train_scores_mean + train_scores_std, alpha=0.1,\n",
    "                     color=\"r\")\n",
    "matplotlib.pyplot.fill_between(train_sizes, test_scores_mean - test_scores_std,\n",
    "                     test_scores_mean + test_scores_std, alpha=0.1, color=\"g\")\n",
    "matplotlib.pyplot.plot(train_sizes, train_scores_mean, 'o-', color=\"r\",\n",
    "             label=\"Training score\")\n",
    "matplotlib.pyplot.plot(train_sizes, test_scores_mean, 'o-', color=\"g\",\n",
    "             label=\"Test score\")\n",
    "_ = matplotlib.pyplot.legend(loc=\"best\")"
   ]
  },
  {
   "cell_type": "markdown",
   "metadata": {},
   "source": [
    "### Model version 2: learn from version 1"
   ]
  },
  {
   "cell_type": "markdown",
   "metadata": {},
   "source": [
    "What does model v1 miss?"
   ]
  },
  {
   "cell_type": "code",
   "execution_count": 62,
   "metadata": {},
   "outputs": [
    {
     "data": {
      "text/html": [
       "<div>\n",
       "<table border=\"1\" class=\"dataframe\">\n",
       "  <thead>\n",
       "    <tr style=\"text-align: right;\">\n",
       "      <th></th>\n",
       "      <th>subject</th>\n",
       "      <th>label</th>\n",
       "    </tr>\n",
       "  </thead>\n",
       "  <tbody>\n",
       "    <tr>\n",
       "      <th>90264</th>\n",
       "      <td>Notice</td>\n",
       "      <td>spam</td>\n",
       "    </tr>\n",
       "    <tr>\n",
       "      <th>11545</th>\n",
       "      <td>RE: eNYMEX</td>\n",
       "      <td>ham</td>\n",
       "    </tr>\n",
       "    <tr>\n",
       "      <th>59592</th>\n",
       "      <td>RE: priorities for 1/16 and accomplishments fo...</td>\n",
       "      <td>ham</td>\n",
       "    </tr>\n",
       "    <tr>\n",
       "      <th>38917</th>\n",
       "      <td>RE: 2 things</td>\n",
       "      <td>ham</td>\n",
       "    </tr>\n",
       "    <tr>\n",
       "      <th>55301</th>\n",
       "      <td>RE: Big Pig</td>\n",
       "      <td>ham</td>\n",
       "    </tr>\n",
       "    <tr>\n",
       "      <th>36544</th>\n",
       "      <td>Dynegy Discussions</td>\n",
       "      <td>ham</td>\n",
       "    </tr>\n",
       "    <tr>\n",
       "      <th>74289</th>\n",
       "      <td>St0ck Maven Newsletter</td>\n",
       "      <td>spam</td>\n",
       "    </tr>\n",
       "    <tr>\n",
       "      <th>80926</th>\n",
       "      <td>To comb as smacker</td>\n",
       "      <td>spam</td>\n",
       "    </tr>\n",
       "    <tr>\n",
       "      <th>35148</th>\n",
       "      <td>快樂的最佳去趾watson@enron.com</td>\n",
       "      <td>spam</td>\n",
       "    </tr>\n",
       "    <tr>\n",
       "      <th>61719</th>\n",
       "      <td>Second Cataract Surgery</td>\n",
       "      <td>ham</td>\n",
       "    </tr>\n",
       "    <tr>\n",
       "      <th>22526</th>\n",
       "      <td>Oakhill LOI</td>\n",
       "      <td>ham</td>\n",
       "    </tr>\n",
       "    <tr>\n",
       "      <th>34557</th>\n",
       "      <td>Good morning.</td>\n",
       "      <td>spam</td>\n",
       "    </tr>\n",
       "    <tr>\n",
       "      <th>4344</th>\n",
       "      <td>YOUR PRIZE</td>\n",
       "      <td>ham</td>\n",
       "    </tr>\n",
       "    <tr>\n",
       "      <th>43589</th>\n",
       "      <td>Re:Таможенная База Данных</td>\n",
       "      <td>spam</td>\n",
       "    </tr>\n",
       "    <tr>\n",
       "      <th>19814</th>\n",
       "      <td>Asset Sales Chart</td>\n",
       "      <td>ham</td>\n",
       "    </tr>\n",
       "    <tr>\n",
       "      <th>10625</th>\n",
       "      <td>Re:</td>\n",
       "      <td>spam</td>\n",
       "    </tr>\n",
       "    <tr>\n",
       "      <th>27644</th>\n",
       "      <td>This Week</td>\n",
       "      <td>ham</td>\n",
       "    </tr>\n",
       "    <tr>\n",
       "      <th>79862</th>\n",
       "      <td>lasts for 36 hours</td>\n",
       "      <td>spam</td>\n",
       "    </tr>\n",
       "    <tr>\n",
       "      <th>68326</th>\n",
       "      <td>RE: Hello</td>\n",
       "      <td>ham</td>\n",
       "    </tr>\n",
       "    <tr>\n",
       "      <th>76705</th>\n",
       "      <td>Fw:</td>\n",
       "      <td>spam</td>\n",
       "    </tr>\n",
       "    <tr>\n",
       "      <th>45635</th>\n",
       "      <td>Guadalupe Guaranty update</td>\n",
       "      <td>ham</td>\n",
       "    </tr>\n",
       "    <tr>\n",
       "      <th>85269</th>\n",
       "      <td>Client Update</td>\n",
       "      <td>spam</td>\n",
       "    </tr>\n",
       "    <tr>\n",
       "      <th>31717</th>\n",
       "      <td>[Fwd: Virus Warning!]</td>\n",
       "      <td>ham</td>\n",
       "    </tr>\n",
       "    <tr>\n",
       "      <th>27889</th>\n",
       "      <td>Tans Pecos scenarios</td>\n",
       "      <td>ham</td>\n",
       "    </tr>\n",
       "    <tr>\n",
       "      <th>831</th>\n",
       "      <td>Little st0cks Are Coming Up Big</td>\n",
       "      <td>spam</td>\n",
       "    </tr>\n",
       "    <tr>\n",
       "      <th>64727</th>\n",
       "      <td>Enpower/Power DPR</td>\n",
       "      <td>ham</td>\n",
       "    </tr>\n",
       "    <tr>\n",
       "      <th>15461</th>\n",
       "      <td>Re:</td>\n",
       "      <td>spam</td>\n",
       "    </tr>\n",
       "    <tr>\n",
       "      <th>90704</th>\n",
       "      <td>LINDAS NOTIFICATION!</td>\n",
       "      <td>spam</td>\n",
       "    </tr>\n",
       "    <tr>\n",
       "      <th>36721</th>\n",
       "      <td>Genco/ROC</td>\n",
       "      <td>ham</td>\n",
       "    </tr>\n",
       "    <tr>\n",
       "      <th>74495</th>\n",
       "      <td>real soulmates^date one today</td>\n",
       "      <td>spam</td>\n",
       "    </tr>\n",
       "  </tbody>\n",
       "</table>\n",
       "</div>"
      ],
      "text/plain": [
       "                                                 subject label\n",
       "90264                                             Notice  spam\n",
       "11545                                         RE: eNYMEX   ham\n",
       "59592  RE: priorities for 1/16 and accomplishments fo...   ham\n",
       "38917                                       RE: 2 things   ham\n",
       "55301                                        RE: Big Pig   ham\n",
       "36544                                 Dynegy Discussions   ham\n",
       "74289                             St0ck Maven Newsletter  spam\n",
       "80926                                 To comb as smacker  spam\n",
       "35148                            快樂的最佳去趾watson@enron.com  spam\n",
       "61719                            Second Cataract Surgery   ham\n",
       "22526                                        Oakhill LOI   ham\n",
       "34557                                      Good morning.  spam\n",
       "4344                                         YOUR PRIZE    ham\n",
       "43589                          Re:Таможенная База Данных  spam\n",
       "19814                                  Asset Sales Chart   ham\n",
       "10625                                               Re:   spam\n",
       "27644                                          This Week   ham\n",
       "79862                                 lasts for 36 hours  spam\n",
       "68326                                          RE: Hello   ham\n",
       "76705                                                Fw:  spam\n",
       "45635                          Guadalupe Guaranty update   ham\n",
       "85269                                      Client Update  spam\n",
       "31717                              [Fwd: Virus Warning!]   ham\n",
       "27889                               Tans Pecos scenarios   ham\n",
       "831                      Little st0cks Are Coming Up Big  spam\n",
       "64727                                  Enpower/Power DPR   ham\n",
       "15461                                                Re:  spam\n",
       "90704                               LINDAS NOTIFICATION!  spam\n",
       "36721                                          Genco/ROC   ham\n",
       "74495                      real soulmates^date one today  spam"
      ]
     },
     "execution_count": 62,
     "metadata": {},
     "output_type": "execute_result"
    }
   ],
   "source": [
    "rga_TRAIN_df[rga_TRAIN_df['label']!=rf_v1_predictions_train][['subject', 'label']].sample(30)"
   ]
  },
  {
   "cell_type": "code",
   "execution_count": 63,
   "metadata": {
    "collapsed": true
   },
   "outputs": [],
   "source": [
    "def add_features_v2(df):\n",
    "    df['feature_ALL_CAPS'] = (df['subject'] == df['subject'].str.upper()).astype(int)\n",
    "    df['feature_all_lower'] = (df['subject'] == df['subject'].str.lower()).astype(int)\n",
    "    df['feature_all_ascii_chars'] = df['subject'].map(lambda s: all(ord(c) < 128 for c in s)).astype(int)\n",
    "    df['feature_$'] = df['subject'].map(lambda x: '$' in x).astype(int)\n",
    "    df['feature_@'] = df['subject'].map(lambda x: '@' in x).astype(int)\n",
    "    df['feature_0'] = df['subject'].map(lambda x: '0' in x).astype(int)\n",
    "    df['feature_:)'] = df['subject'].map(lambda x: ':)' in x).astype(int)\n",
    "    df['feature_memy'] = df['subject'].str.lower().map(lambda x: 'me' in x or 'my' in x).astype(int)\n",
    "    df['feature_re'] = df['subject'].str.lower().map(lambda s: s.startswith('re:')).astype(int)\n",
    "    df['feature_fwd'] = df['subject'].str.lower().map(lambda s: s.startswith('fw:') or s.startswith('fwd:')).astype(int)\n",
    "\n",
    "add_features_v2(rga_TRAIN_df)\n",
    "add_features_v2(rga_TEST_df)"
   ]
  },
  {
   "cell_type": "code",
   "execution_count": 64,
   "metadata": {},
   "outputs": [
    {
     "data": {
      "text/html": [
       "<div>\n",
       "<table border=\"1\" class=\"dataframe\">\n",
       "  <thead>\n",
       "    <tr style=\"text-align: right;\">\n",
       "      <th>label</th>\n",
       "      <th>ham</th>\n",
       "      <th>spam</th>\n",
       "    </tr>\n",
       "    <tr>\n",
       "      <th>feature_all_ascii_chars</th>\n",
       "      <th></th>\n",
       "      <th></th>\n",
       "    </tr>\n",
       "  </thead>\n",
       "  <tbody>\n",
       "    <tr>\n",
       "      <th>0</th>\n",
       "      <td>12</td>\n",
       "      <td>11019</td>\n",
       "    </tr>\n",
       "    <tr>\n",
       "      <th>1</th>\n",
       "      <td>29791</td>\n",
       "      <td>29970</td>\n",
       "    </tr>\n",
       "  </tbody>\n",
       "</table>\n",
       "</div>"
      ],
      "text/plain": [
       "label                      ham   spam\n",
       "feature_all_ascii_chars              \n",
       "0                           12  11019\n",
       "1                        29791  29970"
      ]
     },
     "execution_count": 64,
     "metadata": {},
     "output_type": "execute_result"
    }
   ],
   "source": [
    "pd.crosstab(rga_TRAIN_df['feature_all_ascii_chars'], rga_TRAIN_df['label'])"
   ]
  },
  {
   "cell_type": "code",
   "execution_count": 65,
   "metadata": {},
   "outputs": [
    {
     "data": {
      "text/html": [
       "<div>\n",
       "<table border=\"1\" class=\"dataframe\">\n",
       "  <thead>\n",
       "    <tr style=\"text-align: right;\">\n",
       "      <th>label</th>\n",
       "      <th>ham</th>\n",
       "      <th>spam</th>\n",
       "    </tr>\n",
       "    <tr>\n",
       "      <th>feature_fwd</th>\n",
       "      <th></th>\n",
       "      <th></th>\n",
       "    </tr>\n",
       "  </thead>\n",
       "  <tbody>\n",
       "    <tr>\n",
       "      <th>0</th>\n",
       "      <td>25654</td>\n",
       "      <td>40659</td>\n",
       "    </tr>\n",
       "    <tr>\n",
       "      <th>1</th>\n",
       "      <td>4149</td>\n",
       "      <td>330</td>\n",
       "    </tr>\n",
       "  </tbody>\n",
       "</table>\n",
       "</div>"
      ],
      "text/plain": [
       "label          ham   spam\n",
       "feature_fwd              \n",
       "0            25654  40659\n",
       "1             4149    330"
      ]
     },
     "execution_count": 65,
     "metadata": {},
     "output_type": "execute_result"
    }
   ],
   "source": [
    "pd.crosstab(rga_TRAIN_df['feature_fwd'], rga_TRAIN_df['label'])"
   ]
  },
  {
   "cell_type": "code",
   "execution_count": 66,
   "metadata": {},
   "outputs": [
    {
     "name": "stdout",
     "output_type": "stream",
     "text": [
      "Random Forest v2 TRAIN accuracy is: 95.96%\n",
      "Random Forest v2 TEST accuracy is: 92.10%\n"
     ]
    }
   ],
   "source": [
    "# Our features have changed, so let's get the new set of names\n",
    "features = [col for col in rga_TRAIN_df if col.startswith('feature')]\n",
    "\n",
    "# Create a new classifier\n",
    "rf_clf_v2 = ensemble.RandomForestClassifier( # http://scikit-learn.org/stable/modules/generated/sklearn.ensemble.RandomForestClassifier.html\n",
    "    n_estimators=32, # How many trees? More is better, but slower.\n",
    "    n_jobs=-1\n",
    ")\n",
    "\n",
    "# Fit our training data\n",
    "rf_clf_v2.fit(rga_TRAIN_df[features], rga_TRAIN_df['label'])\n",
    "\n",
    "# Make predictions on train and test\n",
    "rf_v2_predictions_train = rf_clf_v2.predict(rga_TRAIN_df[features])\n",
    "rf_v2_predictions_test = rf_clf_v2.predict(rga_TEST_df[features])\n",
    "\n",
    "# Evaluate performance\n",
    "rf_v2_acc_train = metrics.accuracy_score(rga_TRAIN_df['label'], rf_v2_predictions_train)\n",
    "rf_v2_acc_test = metrics.accuracy_score(rga_TEST_df['label'], rf_v2_predictions_test)\n",
    "\n",
    "# Print results\n",
    "print('Random Forest v2 TRAIN accuracy is: %.2f%%' % (rf_v2_acc_train*100))\n",
    "print('Random Forest v2 TEST accuracy is: %.2f%%' % (rf_v2_acc_test*100))"
   ]
  },
  {
   "cell_type": "markdown",
   "metadata": {},
   "source": [
    "### Model v3: ml can utilize very basic features"
   ]
  },
  {
   "cell_type": "code",
   "execution_count": 67,
   "metadata": {
    "collapsed": true
   },
   "outputs": [],
   "source": [
    "def add_features_v3(df):\n",
    "    \"\"\"A bunch of features that aren't particularly human-friendly.\"\"\"\n",
    "    df['feature_len'] = df['subject'].map(len)\n",
    "    df['feature_words'] = df['subject'].map(lambda x: len(x.split()))\n",
    "    df['feature_chars_per_word'] = (df['feature_len'] / df['feature_words']).fillna(0.)\n",
    "    df['feature_digits'] = df['subject'].map(lambda x: sum(c.isdigit() for c in x))\n",
    "    df['feature_punc'] = df['subject'].map(lambda s: sum([1 for x in s if x in set('!\"#$%&\\'()*+,-./:;<=>?@[\\\\]^_`{|}~')]))\n",
    "    \n",
    "add_features_v3(rga_TRAIN_df)\n",
    "add_features_v3(rga_TEST_df)"
   ]
  },
  {
   "cell_type": "code",
   "execution_count": 68,
   "metadata": {},
   "outputs": [
    {
     "name": "stdout",
     "output_type": "stream",
     "text": [
      "Random Forest v3 TRAIN accuracy is: 99.47%\n",
      "Random Forest v3 TEST accuracy is: 94.31%\n"
     ]
    }
   ],
   "source": [
    "# Our features have changed, so let's get the new set of names\n",
    "features = [col for col in rga_TRAIN_df if col.startswith('feature')]\n",
    "\n",
    "# Create a new classifier\n",
    "rf_clf_v3 = ensemble.RandomForestClassifier( # http://scikit-learn.org/stable/modules/generated/sklearn.ensemble.RandomForestClassifier.html\n",
    "    n_estimators=32, # How many trees? More is better, but slower.\n",
    "    n_jobs=-1\n",
    ")\n",
    "\n",
    "# Fit our training data\n",
    "rf_clf_v3.fit(rga_TRAIN_df[features], rga_TRAIN_df['label'])\n",
    "\n",
    "# Make predictions on train and test\n",
    "rf_v3_predictions_train = rf_clf_v3.predict(rga_TRAIN_df[features])\n",
    "rf_v3_predictions_test = rf_clf_v3.predict(rga_TEST_df[features])\n",
    "\n",
    "# Evaluate performance\n",
    "rf_v3_acc_train = metrics.accuracy_score(rga_TRAIN_df['label'], rf_v3_predictions_train)\n",
    "rf_v3_acc_test = metrics.accuracy_score(rga_TEST_df['label'], rf_v3_predictions_test)\n",
    "\n",
    "# Print results\n",
    "print('Random Forest v3 TRAIN accuracy is: %.2f%%' % (rf_v3_acc_train*100))\n",
    "print('Random Forest v3 TEST accuracy is: %.2f%%' % (rf_v3_acc_test*100))"
   ]
  },
  {
   "cell_type": "code",
   "execution_count": null,
   "metadata": {
    "collapsed": true
   },
   "outputs": [],
   "source": [
    "rga_TEST_df[rga_TEST_df['label']!=rf_v3_predictions_test][['subject', 'label']].sample(30)"
   ]
  },
  {
   "cell_type": "markdown",
   "metadata": {},
   "source": [
    "Let's see how we did today:"
   ]
  },
  {
   "cell_type": "code",
   "execution_count": 69,
   "metadata": {},
   "outputs": [
    {
     "data": {
      "text/html": [
       "<div>\n",
       "<table border=\"1\" class=\"dataframe\">\n",
       "  <thead>\n",
       "    <tr style=\"text-align: right;\">\n",
       "      <th></th>\n",
       "      <th>Model</th>\n",
       "      <th>Test Accuracy</th>\n",
       "      <th>Train Accuracy</th>\n",
       "    </tr>\n",
       "  </thead>\n",
       "  <tbody>\n",
       "    <tr>\n",
       "      <th>0</th>\n",
       "      <td>Always Spam</td>\n",
       "      <td>58.398780</td>\n",
       "      <td>57.900610</td>\n",
       "    </tr>\n",
       "    <tr>\n",
       "      <th>1</th>\n",
       "      <td>Simple v1</td>\n",
       "      <td>60.477993</td>\n",
       "      <td>61.071873</td>\n",
       "    </tr>\n",
       "    <tr>\n",
       "      <th>2</th>\n",
       "      <td>Simple v2</td>\n",
       "      <td>81.863382</td>\n",
       "      <td>82.126511</td>\n",
       "    </tr>\n",
       "    <tr>\n",
       "      <th>3</th>\n",
       "      <td>RF v1</td>\n",
       "      <td>87.473869</td>\n",
       "      <td>91.554130</td>\n",
       "    </tr>\n",
       "    <tr>\n",
       "      <th>4</th>\n",
       "      <td>RF v2</td>\n",
       "      <td>92.095599</td>\n",
       "      <td>95.958583</td>\n",
       "    </tr>\n",
       "    <tr>\n",
       "      <th>5</th>\n",
       "      <td>RF v3</td>\n",
       "      <td>94.310413</td>\n",
       "      <td>99.473104</td>\n",
       "    </tr>\n",
       "  </tbody>\n",
       "</table>\n",
       "</div>"
      ],
      "text/plain": [
       "         Model  Test Accuracy  Train Accuracy\n",
       "0  Always Spam      58.398780       57.900610\n",
       "1    Simple v1      60.477993       61.071873\n",
       "2    Simple v2      81.863382       82.126511\n",
       "3        RF v1      87.473869       91.554130\n",
       "4        RF v2      92.095599       95.958583\n",
       "5        RF v3      94.310413       99.473104"
      ]
     },
     "execution_count": 69,
     "metadata": {},
     "output_type": "execute_result"
    }
   ],
   "source": [
    "results_summary_df = pd.DataFrame({\n",
    "    'Model': ['Always Spam', 'Simple v1', 'Simple v2', 'RF v1', 'RF v2', 'RF v3'],\n",
    "    'Train Accuracy': [100*always_spam_acc_train, 100*simple_acc_train, 100*simple_v2_acc_train, 100*rf_v1_acc_train, 100*rf_v2_acc_train, 100*rf_v3_acc_train],\n",
    "    'Test Accuracy': [100*always_spam_acc_test, 100*simple_acc_test, 100*simple_v2_acc_test, 100*rf_v1_acc_test, 100*rf_v2_acc_test, 100*rf_v3_acc_test]\n",
    "})\n",
    "results_summary_df"
   ]
  },
  {
   "cell_type": "code",
   "execution_count": 70,
   "metadata": {},
   "outputs": [
    {
     "data": {
      "image/png": "[encoded data removed]",
      "text/plain": [
       "<matplotlib.figure.Figure at 0x7f8d5062ea58>"
      ]
     },
     "metadata": {},
     "output_type": "display_data"
    }
   ],
   "source": [
    "ax = results_summary_df.plot.bar('Model', ['Train Accuracy', 'Test Accuracy'])\n",
    "\n",
    "_ = ax.set_ylabel('Accuracy (%)')"
   ]
  },
  {
   "cell_type": "markdown",
   "metadata": {},
   "source": [
    "We started with a model that's barely better than guessing, and ended by building a machine learning model with greater than 90% accuracy. That's not the end, though; it is possible to acheive even better performance with this data, and I encourage everyone to start experimenting with new and better features as a way to learn."
   ]
  },
  {
   "cell_type": "markdown",
   "metadata": {},
   "source": [
    "# Learn More\n",
    "I hope this intro has whetted your appetite. There are _tons_ of free resources online to learn more about these topics. Here are some of my favoriate."
   ]
  },
  {
   "cell_type": "markdown",
   "metadata": {},
   "source": [
    "* As mentioned previously, [Learn Python the Hard Way](https://learnpythonthehardway.org/book/) is a great resource for learning Python.\n",
    "* [A visual introduction to machine learning](http://www.r2d3.us/visual-intro-to-machine-learning-part-1/) is a fun way to build a little more intuition around basic ML concepts.\n",
    "* Check out these [tutorials](http://pandas.pydata.org/pandas-docs/stable/tutorials.html) to learn more about notebooks and pandas.\n",
    "* Once you have some familiarity with the basics of Python and ML, [scikit-learn's tutorials](http://scikit-learn.org/stable/tutorial/index.html) are good for building hands-on ML knowledge.\n",
    "* In this training, we've pretty much exclusively used \"error\" and \"accuracy\" to evaluate machine learning models. That's not always the best thing to do. Read [Why accuracy alone is a bad measure for classification tasks, and what we can do about it](https://tryolabs.com/blog/2013/03/25/why-accuracy-alone-bad-measure-classification-tasks-and-what-we-can-do-about-it/) to learn why.\n",
    "* Building intuition around bias and variance is an important fundamental skill. Start with Scott Fortmann-Roe's essay [Understanding the Bias-Variance Tradeoff](http://scott.fortmann-roe.com/docs/BiasVariance.html).\n",
    "* I also highly recommend reading this paper, [A Few Useful Things to Know about Machine Learning](https://homes.cs.washington.edu/~pedrod/papers/cacm12.pdf), when you are ready to start using ML on your own.\n",
    "* Finally, if you prefer a more formal classroom setting, [Andrew Ng's Coursera course on machine learning](https://www.coursera.org/learn/machine-learning) is a fantastic place to start. It's free!"
   ]
  },
  {
   "cell_type": "markdown",
   "metadata": {},
   "source": [
    "# Extra Credit"
   ]
  },
  {
   "cell_type": "code",
   "execution_count": null,
   "metadata": {
    "collapsed": true
   },
   "outputs": [],
   "source": [
    "# Let's get more detailed information about the performance of our best model.\n",
    "# Would you use it in production? Probably not.\n",
    "print(metrics.classification_report(\n",
    "    rga_TEST_df['label'], \n",
    "    rf_v3_predictions_test,\n",
    "    digits=4\n",
    "))"
   ]
  },
  {
   "cell_type": "code",
   "execution_count": null,
   "metadata": {
    "collapsed": true
   },
   "outputs": [],
   "source": [
    "# What if we could make sure the classifier only said 'spam' if it was particularly sure?\n",
    "# We can do that by adjusting the probability threshold.\n",
    "\n",
    "def probs_to_class(probs, threshold=0.5):\n",
    "    # Converts raw spam probability to a label\n",
    "    if probs > threshold:\n",
    "        return 'spam'\n",
    "    else:\n",
    "        return 'ham'\n",
    "\n",
    "pd.Series(rf_clf_v3.predict_proba(rga_TEST_df.head()[features])[:, 1]).map(probs_to_class)"
   ]
  },
  {
   "cell_type": "code",
   "execution_count": null,
   "metadata": {
    "collapsed": true
   },
   "outputs": [],
   "source": [
    "# By default, the classifier's threshold is 0.5.\n",
    "# That means if the estimated spam probability is greater than 50%, label as spam.\n",
    "print(metrics.classification_report(\n",
    "    rga_TEST_df['label'],\n",
    "    pd.Series(rf_clf_v3.predict_proba(rga_TEST_df[features])[:, 1]).map(\n",
    "        lambda p: probs_to_class(p, 0.5)\n",
    "    ),\n",
    "    digits=4\n",
    "))"
   ]
  },
  {
   "cell_type": "code",
   "execution_count": null,
   "metadata": {
    "collapsed": true
   },
   "outputs": [],
   "source": [
    "# Let's look at the distribution of probabilities in our test set.\n",
    "\n",
    "ax = pd.Series(rf_clf_v3.predict_proba(rga_TEST_df[features])[:, 1]).plot.hist(bins=50, edgecolor='white')"
   ]
  },
  {
   "cell_type": "code",
   "execution_count": null,
   "metadata": {
    "collapsed": true
   },
   "outputs": [],
   "source": [
    "# Choosing a higher threshold gets you precision, but at the cost of recall.\n",
    "print(metrics.classification_report(\n",
    "    rga_TEST_df['label'],\n",
    "    pd.Series(rf_clf_v3.predict_proba(rga_TEST_df[features])[:, 1]).map(\n",
    "        lambda p: probs_to_class(p, 0.97)\n",
    "    ),\n",
    "    digits=3\n",
    "))"
   ]
  },
  {
   "cell_type": "markdown",
   "metadata": {
    "collapsed": true
   },
   "source": [
    "## A note on running a model like this in production"
   ]
  },
  {
   "cell_type": "markdown",
   "metadata": {},
   "source": [
    "With an adjusted threshold, this model is close to being suitable for real-world abuse detection as part of a broader portfolio of abuse detection techniques. However, there are a few things I would do before considering using this model in production:\n",
    "\n",
    "1. Most importantly, the training set needs to be augmented with data from the actual mailstream you will be filtering. Every mailstream is different, and a ML model trained on one source of mail will perform worse, if not poorly, on a different one. The best thing you can do for your model is to gather and label your own training data, rather than relying on what is available from other sources. As a general rule of thumb (which you should test for yourself!), you should try to ensure that non-native data makes up no more than one-third of your training set. That means you need to collect a lot more samples. It takes less time than you would think; most people underestimate the value of simply spending time manually labeling more training samples.\n",
    "\n",
    "2. Many of the features are based on particular words. We know that spammers try to avoid filtering by using variations on key words and phrases. Building features that are a little more flexible (for example, a feature that will catch \"viagra\" and anything within one letter substition of that word) is a good idea. Be careful, though: being too flexible with certain words can cause trouble. For example, \"meds\" and \"beds\" are only one letter apart.\n",
    "\n",
    "3. Use more of the email. To keep things simple, we focused on subject lines, but using just the subject line is a bit like playing with one hand tied behind our backs. The rest of the email header and the email content contain many rich features that will improve your model.\n",
    "\n",
    "If you follow this advice, it is possible to improve performance by at least an order of magnitude, which allows you to either reduce false positive rates while keeping spam detection rates the same, or boost spam detection rates while keeping false positive rates the same, or something in between, depending on how you pick your threshold.\n",
    "\n",
    "Deployment of ML models (i.e., actually running them on a server, not just in the notebook environment), is a big topic. This article, [Deploying a scikit-learn classifier to production](https://loads.pickle.me.uk/2016/04/04/deploying-a-scikit-learn-classifier-to-production/), is a good place to start."
   ]
  }
 ],
 "metadata": {
  "kernelspec": {
   "display_name": "Python 3",
   "language": "python",
   "name": "python3"
  },
  "language_info": {
   "codemirror_mode": {
    "name": "ipython",
    "version": 3
   },
   "file_extension": ".py",
   "mimetype": "text/x-python",
   "name": "python",
   "nbconvert_exporter": "python",
   "pygments_lexer": "ipython3",
   "version": "3.6.3"
  }
 },
 "nbformat": 4,
 "nbformat_minor": 2
}
