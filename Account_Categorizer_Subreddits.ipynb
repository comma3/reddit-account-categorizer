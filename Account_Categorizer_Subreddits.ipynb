{
 "cells": [
  {
   "cell_type": "code",
   "execution_count": 4,
   "metadata": {},
   "outputs": [
    {
     "ename": "ImportError",
     "evalue": "DLL load failed: The specified module could not be found.",
     "output_type": "error",
     "traceback": [
      "\u001b[1;31m---------------------------------------------------------------------------\u001b[0m",
      "\u001b[1;31mImportError\u001b[0m                               Traceback (most recent call last)",
      "\u001b[1;32m<ipython-input-4-6e8e7285e9c3>\u001b[0m in \u001b[0;36m<module>\u001b[1;34m()\u001b[0m\n\u001b[0;32m      1\u001b[0m \u001b[1;32mimport\u001b[0m \u001b[0msqlite3\u001b[0m\u001b[1;33m\u001b[0m\u001b[0m\n\u001b[0;32m      2\u001b[0m \u001b[1;32mimport\u001b[0m \u001b[0mpandas\u001b[0m \u001b[1;32mas\u001b[0m \u001b[0mpd\u001b[0m\u001b[1;33m\u001b[0m\u001b[0m\n\u001b[1;32m----> 3\u001b[1;33m \u001b[1;32mfrom\u001b[0m \u001b[0msklearn\u001b[0m \u001b[1;32mimport\u001b[0m \u001b[0mdatasets\u001b[0m\u001b[1;33m,\u001b[0m \u001b[0mmetrics\u001b[0m\u001b[1;33m,\u001b[0m \u001b[0mlinear_model\u001b[0m\u001b[1;33m,\u001b[0m \u001b[0mneural_network\u001b[0m\u001b[1;33m,\u001b[0m \u001b[0mmodel_selection\u001b[0m\u001b[1;33m,\u001b[0m \u001b[0mensemble\u001b[0m\u001b[1;33m\u001b[0m\u001b[0m\n\u001b[0m\u001b[0;32m      4\u001b[0m \u001b[1;32mimport\u001b[0m \u001b[0mmatplotlib\u001b[0m\u001b[1;33m\u001b[0m\u001b[0m\n\u001b[0;32m      5\u001b[0m \u001b[0mget_ipython\u001b[0m\u001b[1;33m(\u001b[0m\u001b[1;33m)\u001b[0m\u001b[1;33m.\u001b[0m\u001b[0mmagic\u001b[0m\u001b[1;33m(\u001b[0m\u001b[1;34m'matplotlib inline'\u001b[0m\u001b[1;33m)\u001b[0m\u001b[1;33m\u001b[0m\u001b[0m\n",
      "\u001b[1;32mc:\\program files (x86)\\python36-32\\lib\\site-packages\\sklearn\\__init__.py\u001b[0m in \u001b[0;36m<module>\u001b[1;34m()\u001b[0m\n\u001b[0;32m    132\u001b[0m \u001b[1;32melse\u001b[0m\u001b[1;33m:\u001b[0m\u001b[1;33m\u001b[0m\u001b[0m\n\u001b[0;32m    133\u001b[0m     \u001b[1;32mfrom\u001b[0m \u001b[1;33m.\u001b[0m \u001b[1;32mimport\u001b[0m \u001b[0m__check_build\u001b[0m\u001b[1;33m\u001b[0m\u001b[0m\n\u001b[1;32m--> 134\u001b[1;33m     \u001b[1;32mfrom\u001b[0m \u001b[1;33m.\u001b[0m\u001b[0mbase\u001b[0m \u001b[1;32mimport\u001b[0m \u001b[0mclone\u001b[0m\u001b[1;33m\u001b[0m\u001b[0m\n\u001b[0m\u001b[0;32m    135\u001b[0m     \u001b[0m__check_build\u001b[0m  \u001b[1;31m# avoid flakes unused variable error\u001b[0m\u001b[1;33m\u001b[0m\u001b[0m\n\u001b[0;32m    136\u001b[0m \u001b[1;33m\u001b[0m\u001b[0m\n",
      "\u001b[1;32mc:\\program files (x86)\\python36-32\\lib\\site-packages\\sklearn\\base.py\u001b[0m in \u001b[0;36m<module>\u001b[1;34m()\u001b[0m\n\u001b[0;32m     10\u001b[0m \u001b[1;32mfrom\u001b[0m \u001b[0mscipy\u001b[0m \u001b[1;32mimport\u001b[0m \u001b[0msparse\u001b[0m\u001b[1;33m\u001b[0m\u001b[0m\n\u001b[0;32m     11\u001b[0m \u001b[1;32mfrom\u001b[0m \u001b[1;33m.\u001b[0m\u001b[0mexternals\u001b[0m \u001b[1;32mimport\u001b[0m \u001b[0msix\u001b[0m\u001b[1;33m\u001b[0m\u001b[0m\n\u001b[1;32m---> 12\u001b[1;33m \u001b[1;32mfrom\u001b[0m \u001b[1;33m.\u001b[0m\u001b[0mutils\u001b[0m\u001b[1;33m.\u001b[0m\u001b[0mfixes\u001b[0m \u001b[1;32mimport\u001b[0m \u001b[0msignature\u001b[0m\u001b[1;33m\u001b[0m\u001b[0m\n\u001b[0m\u001b[0;32m     13\u001b[0m \u001b[1;32mfrom\u001b[0m \u001b[1;33m.\u001b[0m \u001b[1;32mimport\u001b[0m \u001b[0m__version__\u001b[0m\u001b[1;33m\u001b[0m\u001b[0m\n\u001b[0;32m     14\u001b[0m \u001b[1;33m\u001b[0m\u001b[0m\n",
      "\u001b[1;32mc:\\program files (x86)\\python36-32\\lib\\site-packages\\sklearn\\utils\\__init__.py\u001b[0m in \u001b[0;36m<module>\u001b[1;34m()\u001b[0m\n\u001b[0;32m      9\u001b[0m \u001b[1;33m\u001b[0m\u001b[0m\n\u001b[0;32m     10\u001b[0m \u001b[1;32mfrom\u001b[0m \u001b[1;33m.\u001b[0m\u001b[0mmurmurhash\u001b[0m \u001b[1;32mimport\u001b[0m \u001b[0mmurmurhash3_32\u001b[0m\u001b[1;33m\u001b[0m\u001b[0m\n\u001b[1;32m---> 11\u001b[1;33m from .validation import (as_float_array,\n\u001b[0m\u001b[0;32m     12\u001b[0m                          \u001b[0massert_all_finite\u001b[0m\u001b[1;33m,\u001b[0m\u001b[1;33m\u001b[0m\u001b[0m\n\u001b[0;32m     13\u001b[0m                          \u001b[0mcheck_random_state\u001b[0m\u001b[1;33m,\u001b[0m \u001b[0mcolumn_or_1d\u001b[0m\u001b[1;33m,\u001b[0m \u001b[0mcheck_array\u001b[0m\u001b[1;33m,\u001b[0m\u001b[1;33m\u001b[0m\u001b[0m\n",
      "\u001b[1;32mc:\\program files (x86)\\python36-32\\lib\\site-packages\\sklearn\\utils\\validation.py\u001b[0m in \u001b[0;36m<module>\u001b[1;34m()\u001b[0m\n\u001b[0;32m     16\u001b[0m \u001b[1;33m\u001b[0m\u001b[0m\n\u001b[0;32m     17\u001b[0m \u001b[1;32mfrom\u001b[0m \u001b[1;33m.\u001b[0m\u001b[1;33m.\u001b[0m\u001b[0mexternals\u001b[0m \u001b[1;32mimport\u001b[0m \u001b[0msix\u001b[0m\u001b[1;33m\u001b[0m\u001b[0m\n\u001b[1;32m---> 18\u001b[1;33m \u001b[1;32mfrom\u001b[0m \u001b[1;33m.\u001b[0m\u001b[1;33m.\u001b[0m\u001b[0mutils\u001b[0m\u001b[1;33m.\u001b[0m\u001b[0mfixes\u001b[0m \u001b[1;32mimport\u001b[0m \u001b[0msignature\u001b[0m\u001b[1;33m\u001b[0m\u001b[0m\n\u001b[0m\u001b[0;32m     19\u001b[0m \u001b[1;32mfrom\u001b[0m \u001b[1;33m.\u001b[0m\u001b[1;33m.\u001b[0m \u001b[1;32mimport\u001b[0m \u001b[0mget_config\u001b[0m \u001b[1;32mas\u001b[0m \u001b[0m_get_config\u001b[0m\u001b[1;33m\u001b[0m\u001b[0m\n\u001b[0;32m     20\u001b[0m \u001b[1;32mfrom\u001b[0m \u001b[1;33m.\u001b[0m\u001b[1;33m.\u001b[0m\u001b[0mexceptions\u001b[0m \u001b[1;32mimport\u001b[0m \u001b[0mNonBLASDotWarning\u001b[0m\u001b[1;33m\u001b[0m\u001b[0m\n",
      "\u001b[1;32mc:\\program files (x86)\\python36-32\\lib\\site-packages\\sklearn\\utils\\fixes.py\u001b[0m in \u001b[0;36m<module>\u001b[1;34m()\u001b[0m\n\u001b[0;32m    142\u001b[0m     \u001b[1;32mfrom\u001b[0m \u001b[1;33m.\u001b[0m\u001b[0m_scipy_sparse_lsqr_backport\u001b[0m \u001b[1;32mimport\u001b[0m \u001b[0mlsqr\u001b[0m \u001b[1;32mas\u001b[0m \u001b[0msparse_lsqr\u001b[0m\u001b[1;33m\u001b[0m\u001b[0m\n\u001b[0;32m    143\u001b[0m \u001b[1;32melse\u001b[0m\u001b[1;33m:\u001b[0m\u001b[1;33m\u001b[0m\u001b[0m\n\u001b[1;32m--> 144\u001b[1;33m     \u001b[1;32mfrom\u001b[0m \u001b[0mscipy\u001b[0m\u001b[1;33m.\u001b[0m\u001b[0msparse\u001b[0m\u001b[1;33m.\u001b[0m\u001b[0mlinalg\u001b[0m \u001b[1;32mimport\u001b[0m \u001b[0mlsqr\u001b[0m \u001b[1;32mas\u001b[0m \u001b[0msparse_lsqr\u001b[0m  \u001b[1;31m# noqa\u001b[0m\u001b[1;33m\u001b[0m\u001b[0m\n\u001b[0m\u001b[0;32m    145\u001b[0m \u001b[1;33m\u001b[0m\u001b[0m\n\u001b[0;32m    146\u001b[0m \u001b[1;33m\u001b[0m\u001b[0m\n",
      "\u001b[1;32mc:\\program files (x86)\\python36-32\\lib\\site-packages\\scipy\\sparse\\linalg\\__init__.py\u001b[0m in \u001b[0;36m<module>\u001b[1;34m()\u001b[0m\n\u001b[0;32m    112\u001b[0m \u001b[1;32mfrom\u001b[0m \u001b[0m__future__\u001b[0m \u001b[1;32mimport\u001b[0m \u001b[0mdivision\u001b[0m\u001b[1;33m,\u001b[0m \u001b[0mprint_function\u001b[0m\u001b[1;33m,\u001b[0m \u001b[0mabsolute_import\u001b[0m\u001b[1;33m\u001b[0m\u001b[0m\n\u001b[0;32m    113\u001b[0m \u001b[1;33m\u001b[0m\u001b[0m\n\u001b[1;32m--> 114\u001b[1;33m \u001b[1;32mfrom\u001b[0m \u001b[1;33m.\u001b[0m\u001b[0misolve\u001b[0m \u001b[1;32mimport\u001b[0m \u001b[1;33m*\u001b[0m\u001b[1;33m\u001b[0m\u001b[0m\n\u001b[0m\u001b[0;32m    115\u001b[0m \u001b[1;32mfrom\u001b[0m \u001b[1;33m.\u001b[0m\u001b[0mdsolve\u001b[0m \u001b[1;32mimport\u001b[0m \u001b[1;33m*\u001b[0m\u001b[1;33m\u001b[0m\u001b[0m\n\u001b[0;32m    116\u001b[0m \u001b[1;32mfrom\u001b[0m \u001b[1;33m.\u001b[0m\u001b[0minterface\u001b[0m \u001b[1;32mimport\u001b[0m \u001b[1;33m*\u001b[0m\u001b[1;33m\u001b[0m\u001b[0m\n",
      "\u001b[1;32mc:\\program files (x86)\\python36-32\\lib\\site-packages\\scipy\\sparse\\linalg\\isolve\\__init__.py\u001b[0m in \u001b[0;36m<module>\u001b[1;34m()\u001b[0m\n\u001b[0;32m      4\u001b[0m \u001b[1;33m\u001b[0m\u001b[0m\n\u001b[0;32m      5\u001b[0m \u001b[1;31m#from info import __doc__\u001b[0m\u001b[1;33m\u001b[0m\u001b[1;33m\u001b[0m\u001b[0m\n\u001b[1;32m----> 6\u001b[1;33m \u001b[1;32mfrom\u001b[0m \u001b[1;33m.\u001b[0m\u001b[0miterative\u001b[0m \u001b[1;32mimport\u001b[0m \u001b[1;33m*\u001b[0m\u001b[1;33m\u001b[0m\u001b[0m\n\u001b[0m\u001b[0;32m      7\u001b[0m \u001b[1;32mfrom\u001b[0m \u001b[1;33m.\u001b[0m\u001b[0mminres\u001b[0m \u001b[1;32mimport\u001b[0m \u001b[0mminres\u001b[0m\u001b[1;33m\u001b[0m\u001b[0m\n\u001b[0;32m      8\u001b[0m \u001b[1;32mfrom\u001b[0m \u001b[1;33m.\u001b[0m\u001b[0mlgmres\u001b[0m \u001b[1;32mimport\u001b[0m \u001b[0mlgmres\u001b[0m\u001b[1;33m\u001b[0m\u001b[0m\n",
      "\u001b[1;32mc:\\program files (x86)\\python36-32\\lib\\site-packages\\scipy\\sparse\\linalg\\isolve\\iterative.py\u001b[0m in \u001b[0;36m<module>\u001b[1;34m()\u001b[0m\n\u001b[0;32m      5\u001b[0m \u001b[0m__all__\u001b[0m \u001b[1;33m=\u001b[0m \u001b[1;33m[\u001b[0m\u001b[1;34m'bicg'\u001b[0m\u001b[1;33m,\u001b[0m\u001b[1;34m'bicgstab'\u001b[0m\u001b[1;33m,\u001b[0m\u001b[1;34m'cg'\u001b[0m\u001b[1;33m,\u001b[0m\u001b[1;34m'cgs'\u001b[0m\u001b[1;33m,\u001b[0m\u001b[1;34m'gmres'\u001b[0m\u001b[1;33m,\u001b[0m\u001b[1;34m'qmr'\u001b[0m\u001b[1;33m]\u001b[0m\u001b[1;33m\u001b[0m\u001b[0m\n\u001b[0;32m      6\u001b[0m \u001b[1;33m\u001b[0m\u001b[0m\n\u001b[1;32m----> 7\u001b[1;33m \u001b[1;32mfrom\u001b[0m \u001b[1;33m.\u001b[0m \u001b[1;32mimport\u001b[0m \u001b[0m_iterative\u001b[0m\u001b[1;33m\u001b[0m\u001b[0m\n\u001b[0m\u001b[0;32m      8\u001b[0m \u001b[1;33m\u001b[0m\u001b[0m\n\u001b[0;32m      9\u001b[0m \u001b[1;32mfrom\u001b[0m \u001b[0mscipy\u001b[0m\u001b[1;33m.\u001b[0m\u001b[0msparse\u001b[0m\u001b[1;33m.\u001b[0m\u001b[0mlinalg\u001b[0m\u001b[1;33m.\u001b[0m\u001b[0minterface\u001b[0m \u001b[1;32mimport\u001b[0m \u001b[0mLinearOperator\u001b[0m\u001b[1;33m\u001b[0m\u001b[0m\n",
      "\u001b[1;31mImportError\u001b[0m: DLL load failed: The specified module could not be found."
     ]
    }
   ],
   "source": [
    "import sqlite3\n",
    "import pandas as pd\n",
    "from sklearn import datasets, metrics, linear_model, neural_network, model_selection, ensemble\n",
    "import matplotlib\n",
    "%matplotlib inline\n",
    "matplotlib.rcParams.update(\n",
    "    {'font.size': 22, 'figure.figsize': (16, 8)} # Make font and chart larger.\n",
    ")"
   ]
  },
  {
   "cell_type": "code",
   "execution_count": 12,
   "metadata": {},
   "outputs": [
    {
     "data": {
      "text/html": [
       "<div>\n",
       "<table border=\"1\" class=\"dataframe\">\n",
       "  <thead>\n",
       "    <tr style=\"text-align: right;\">\n",
       "      <th></th>\n",
       "      <th>CRIM</th>\n",
       "      <th>ZN</th>\n",
       "      <th>INDUS</th>\n",
       "      <th>CHAS</th>\n",
       "      <th>NOX</th>\n",
       "      <th>RM</th>\n",
       "      <th>AGE</th>\n",
       "      <th>DIS</th>\n",
       "      <th>RAD</th>\n",
       "      <th>TAX</th>\n",
       "      <th>PTRATIO</th>\n",
       "      <th>B</th>\n",
       "      <th>LSTAT</th>\n",
       "    </tr>\n",
       "  </thead>\n",
       "  <tbody>\n",
       "    <tr>\n",
       "      <th>0</th>\n",
       "      <td>0.00632</td>\n",
       "      <td>18.0</td>\n",
       "      <td>2.31</td>\n",
       "      <td>0.0</td>\n",
       "      <td>0.538</td>\n",
       "      <td>6.575</td>\n",
       "      <td>65.2</td>\n",
       "      <td>4.0900</td>\n",
       "      <td>1.0</td>\n",
       "      <td>296.0</td>\n",
       "      <td>15.3</td>\n",
       "      <td>396.90</td>\n",
       "      <td>4.98</td>\n",
       "    </tr>\n",
       "    <tr>\n",
       "      <th>1</th>\n",
       "      <td>0.02731</td>\n",
       "      <td>0.0</td>\n",
       "      <td>7.07</td>\n",
       "      <td>0.0</td>\n",
       "      <td>0.469</td>\n",
       "      <td>6.421</td>\n",
       "      <td>78.9</td>\n",
       "      <td>4.9671</td>\n",
       "      <td>2.0</td>\n",
       "      <td>242.0</td>\n",
       "      <td>17.8</td>\n",
       "      <td>396.90</td>\n",
       "      <td>9.14</td>\n",
       "    </tr>\n",
       "    <tr>\n",
       "      <th>2</th>\n",
       "      <td>0.02729</td>\n",
       "      <td>0.0</td>\n",
       "      <td>7.07</td>\n",
       "      <td>0.0</td>\n",
       "      <td>0.469</td>\n",
       "      <td>7.185</td>\n",
       "      <td>61.1</td>\n",
       "      <td>4.9671</td>\n",
       "      <td>2.0</td>\n",
       "      <td>242.0</td>\n",
       "      <td>17.8</td>\n",
       "      <td>392.83</td>\n",
       "      <td>4.03</td>\n",
       "    </tr>\n",
       "    <tr>\n",
       "      <th>3</th>\n",
       "      <td>0.03237</td>\n",
       "      <td>0.0</td>\n",
       "      <td>2.18</td>\n",
       "      <td>0.0</td>\n",
       "      <td>0.458</td>\n",
       "      <td>6.998</td>\n",
       "      <td>45.8</td>\n",
       "      <td>6.0622</td>\n",
       "      <td>3.0</td>\n",
       "      <td>222.0</td>\n",
       "      <td>18.7</td>\n",
       "      <td>394.63</td>\n",
       "      <td>2.94</td>\n",
       "    </tr>\n",
       "    <tr>\n",
       "      <th>4</th>\n",
       "      <td>0.06905</td>\n",
       "      <td>0.0</td>\n",
       "      <td>2.18</td>\n",
       "      <td>0.0</td>\n",
       "      <td>0.458</td>\n",
       "      <td>7.147</td>\n",
       "      <td>54.2</td>\n",
       "      <td>6.0622</td>\n",
       "      <td>3.0</td>\n",
       "      <td>222.0</td>\n",
       "      <td>18.7</td>\n",
       "      <td>396.90</td>\n",
       "      <td>5.33</td>\n",
       "    </tr>\n",
       "  </tbody>\n",
       "</table>\n",
       "</div>"
      ],
      "text/plain": [
       "      CRIM    ZN  INDUS  CHAS    NOX     RM   AGE     DIS  RAD    TAX  \\\n",
       "0  0.00632  18.0   2.31   0.0  0.538  6.575  65.2  4.0900  1.0  296.0   \n",
       "1  0.02731   0.0   7.07   0.0  0.469  6.421  78.9  4.9671  2.0  242.0   \n",
       "2  0.02729   0.0   7.07   0.0  0.469  7.185  61.1  4.9671  2.0  242.0   \n",
       "3  0.03237   0.0   2.18   0.0  0.458  6.998  45.8  6.0622  3.0  222.0   \n",
       "4  0.06905   0.0   2.18   0.0  0.458  7.147  54.2  6.0622  3.0  222.0   \n",
       "\n",
       "   PTRATIO       B  LSTAT  \n",
       "0     15.3  396.90   4.98  \n",
       "1     17.8  396.90   9.14  \n",
       "2     17.8  392.83   4.03  \n",
       "3     18.7  394.63   2.94  \n",
       "4     18.7  396.90   5.33  "
      ]
     },
     "execution_count": 12,
     "metadata": {},
     "output_type": "execute_result"
    }
   ],
   "source": [
    "conn = sqlite3.connect('D:\\\\reddit\\\\reddit_user_data.sqlite3')\n",
    "curr = conn.cursor()\n",
    "\n",
    "reddit_users_df = pd.read_sql_query(\"\"\"SELECT *\n",
    "                            FROM users\n",
    "                            WHERE gender in ('male', 'female')\"\"\", conn)\n",
    "conn.close()\n",
    "reddit_users_df.head() "
   ]
  },
  {
   "cell_type": "code",
   "execution_count": 35,
   "metadata": {},
   "outputs": [
    {
     "data": {
      "text/plain": [
       "88491"
      ]
     },
     "execution_count": 35,
     "metadata": {},
     "output_type": "execute_result"
    }
   ],
   "source": [
    "len(reddit_users_df) "
   ]
  },
  {
   "cell_type": "code",
   "execution_count": 36,
   "metadata": {},
   "outputs": [
    {
     "data": {
      "text/plain": [
       "spam    51325\n",
       "ham     37166\n",
       "Name: label, dtype: int64"
      ]
     },
     "execution_count": 36,
     "metadata": {},
     "output_type": "execute_result"
    }
   ],
   "source": [
    "# How often each value appears\n",
    "reddit_users_df['label'].value_counts() "
   ]
  },
  {
   "cell_type": "code",
   "execution_count": 37,
   "metadata": {},
   "outputs": [
    {
     "data": {
      "text/html": [
       "<div>\n",
       "<table border=\"1\" class=\"dataframe\">\n",
       "  <thead>\n",
       "    <tr style=\"text-align: right;\">\n",
       "      <th></th>\n",
       "      <th>label</th>\n",
       "      <th>subject</th>\n",
       "    </tr>\n",
       "  </thead>\n",
       "  <tbody>\n",
       "    <tr>\n",
       "      <th>61014</th>\n",
       "      <td>spam</td>\n",
       "      <td>마이너스 통장 그 이상~!! 직장인을 위한 당일 대출 서비스~!! rq txkvfd...</td>\n",
       "    </tr>\n",
       "    <tr>\n",
       "      <th>32266</th>\n",
       "      <td>spam</td>\n",
       "      <td>You have won!                                 ...</td>\n",
       "    </tr>\n",
       "    <tr>\n",
       "      <th>6809</th>\n",
       "      <td>spam</td>\n",
       "      <td>-`'~Cheao Online Pharmacy~=</td>\n",
       "    </tr>\n",
       "    <tr>\n",
       "      <th>36101</th>\n",
       "      <td>spam</td>\n",
       "      <td>Cialis - No prescription needed!</td>\n",
       "    </tr>\n",
       "    <tr>\n",
       "      <th>48672</th>\n",
       "      <td>spam</td>\n",
       "      <td>Dnot spned too mcuh</td>\n",
       "    </tr>\n",
       "    <tr>\n",
       "      <th>17454</th>\n",
       "      <td>spam</td>\n",
       "      <td>최저금리로 최고5천만원까지받으시고 신용유지하세요</td>\n",
       "    </tr>\n",
       "    <tr>\n",
       "      <th>57631</th>\n",
       "      <td>spam</td>\n",
       "      <td>♡치아 미백제 포에버 화이트♡안심후불 80%세일eaton</td>\n",
       "    </tr>\n",
       "    <tr>\n",
       "      <th>16132</th>\n",
       "      <td>spam</td>\n",
       "      <td>Looking for cheap high-quality software?  epit...</td>\n",
       "    </tr>\n",
       "    <tr>\n",
       "      <th>46849</th>\n",
       "      <td>spam</td>\n",
       "      <td>1000 available to you PPLATTE@ECT.ENRON.COM</td>\n",
       "    </tr>\n",
       "    <tr>\n",
       "      <th>72827</th>\n",
       "      <td>spam</td>\n",
       "      <td>Customer Reciept # 4359bn convolution</td>\n",
       "    </tr>\n",
       "  </tbody>\n",
       "</table>\n",
       "</div>"
      ],
      "text/plain": [
       "      label                                            subject\n",
       "61014  spam  마이너스 통장 그 이상~!! 직장인을 위한 당일 대출 서비스~!! rq txkvfd...\n",
       "32266  spam  You have won!                                 ...\n",
       "6809   spam                        -`'~Cheao Online Pharmacy~=\n",
       "36101  spam                   Cialis - No prescription needed!\n",
       "48672  spam                                Dnot spned too mcuh\n",
       "17454  spam                         최저금리로 최고5천만원까지받으시고 신용유지하세요\n",
       "57631  spam                    ♡치아 미백제 포에버 화이트♡안심후불 80%세일eaton\n",
       "16132  spam  Looking for cheap high-quality software?  epit...\n",
       "46849  spam       1000 available to you PPLATTE@ECT.ENRON.COM \n",
       "72827  spam              Customer Reciept # 4359bn convolution"
      ]
     },
     "execution_count": 37,
     "metadata": {},
     "output_type": "execute_result"
    }
   ],
   "source": [
    "reddit_users_df[reddit_users_df['gender']=='male'].sample(10)"
   ]
  },
  {
   "cell_type": "code",
   "execution_count": 39,
   "metadata": {},
   "outputs": [
    {
     "name": "stdout",
     "output_type": "stream",
     "text": [
      "Train Samples: 70792\n",
      "Test Samples: 17699\n"
     ]
    }
   ],
   "source": [
    "rga_TRAIN_df, rga_TEST_df = model_selection.train_test_split(\n",
    "    reddit_users_df,\n",
    "    test_size=0.2\n",
    ")\n",
    "\n",
    "rga_TRAIN_df = rga_TRAIN_df.copy() # Pandas tries to save memory by not copying data into derived dataframes.\n",
    "rga_TEST_df = rga_TEST_df.copy()\n",
    "\n",
    "print('Train Samples: %s' % len(rga_TRAIN_df))\n",
    "print('Test Samples: %s' % len(rga_TEST_df))"
   ]
  },
  {
   "cell_type": "markdown",
   "metadata": {},
   "source": [
    "There's more male than female here. We can beat 50% accuracy just by saying everyone is male"
   ]
  },
  {
   "cell_type": "code",
   "execution_count": 40,
   "metadata": {},
   "outputs": [
    {
     "name": "stdout",
     "output_type": "stream",
     "text": [
      "TRAIN accuracy if we call everything spam: 57.90%\n",
      "TEST accuracy if we call everything spam: 58.40%\n"
     ]
    }
   ],
   "source": [
    "always_spam_acc_train = metrics.accuracy_score(\n",
    "    rga_TRAIN_df['gender'],\n",
    "    ['male']*len(rga_TRAIN_df)\n",
    ")\n",
    "always_spam_acc_test = metrics.accuracy_score(\n",
    "    rga_TEST_df['gender'],\n",
    "    ['male']*len(rga_TEST_df)\n",
    ")\n",
    "\n",
    "print('TRAIN accuracy if we call everything spam: %.2f%%' % (always_spam_acc_train*100))\n",
    "print('TEST accuracy if we call everything spam: %.2f%%' % (always_spam_acc_test*100))"
   ]
  },
  {
   "cell_type": "code",
   "execution_count": 41,
   "metadata": {},
   "outputs": [
    {
     "data": {
      "text/plain": [
       "26956         Out of Office AutoReply: PPL EnergyPlus, LLC\n",
       "30820    Note: this Return Receipt only acknowledges th...\n",
       "57910                     2nd Revised Ratings Outline - TW\n",
       "32833    ENA - IM Mkt Central MICH - Sitara Deal - 1068...\n",
       "35898    CAISO URGENT NOTIFICATION - CANCELLATION of SI...\n",
       "Name: subject, dtype: object"
      ]
     },
     "execution_count": 41,
     "metadata": {},
     "output_type": "execute_result"
    }
   ],
   "source": [
    "male_users = rga_TRAIN_df[rga_TRAIN_df['gender']=='male']['body']\n",
    "female_users = rga_TRAIN_df[rga_TRAIN_df['gender']=='female']['body']\n",
    "\n",
    "male_users.head() # Each variable is a list subject lines."
   ]
  },
  {
   "cell_type": "code",
   "execution_count": 42,
   "metadata": {},
   "outputs": [
    {
     "data": {
      "text/plain": [
       "1440      china\n",
       "42985       rx.\n",
       "59282         -\n",
       "83227      영어회화\n",
       "34918      fall\n",
       "25872       for\n",
       "121936      now\n",
       "54980     be|ng\n",
       "20788         в\n",
       "195205     take\n",
       "dtype: object"
      ]
     },
     "execution_count": 42,
     "metadata": {},
     "output_type": "execute_result"
    }
   ],
   "source": [
    "male_subs = pd.Series(\n",
    "    spam_subjects.str.cat(sep=',').lower().split()\n",
    ")\n",
    "female_subs = pd.Series(\n",
    "    ham_subjects.str.cat(sep=',').lower().split()\n",
    ")\n",
    "\n",
    "male_subs.sample(10) # Each of these variables is a list of lowercase words."
   ]
  },
  {
   "cell_type": "code",
   "execution_count": 43,
   "metadata": {},
   "outputs": [
    {
     "data": {
      "text/plain": [
       "-       0.013994\n",
       "the     0.013336\n",
       "for     0.012756\n",
       "your    0.011640\n",
       "you     0.011524\n",
       "dtype: float64"
      ]
     },
     "execution_count": 43,
     "metadata": {},
     "output_type": "execute_result"
    }
   ],
   "source": [
    "# This code counts word frequencies, and then normalizes by total number of words.\n",
    "# The result is the \"rate\" at which each word appears for ham and spam subject lines.\n",
    "male_subs_rates = male_subs.value_counts() / len(male_subs)\n",
    "female_subs_rates = female_subs.value_counts() / len(female_subs)\n",
    "\n",
    "male_word_rates.sort_values(ascending=False).head(5) # Top 5 spam \"words\""
   ]
  },
  {
   "cell_type": "code",
   "execution_count": 44,
   "metadata": {},
   "outputs": [
    {
     "data": {
      "text/plain": [
       "re:    0.043364\n",
       "fw:    0.027895\n",
       "-      0.024944\n",
       "for    0.019345\n",
       "of     0.011305\n",
       "dtype: float64"
      ]
     },
     "execution_count": 44,
     "metadata": {},
     "output_type": "execute_result"
    }
   ],
   "source": [
    "female_subs_rates.sort_values(ascending=False).head()"
   ]
  },
  {
   "cell_type": "code",
   "execution_count": 45,
   "metadata": {},
   "outputs": [
    {
     "data": {
      "text/plain": [
       "meds      290.508065\n",
       "viagra    254.464881\n",
       "75%       211.933923\n",
       "cheap     200.400104\n",
       "100%      163.636056\n",
       "dtype: float64"
      ]
     },
     "execution_count": 45,
     "metadata": {},
     "output_type": "execute_result"
    }
   ],
   "source": [
    "# We can divide spam word rates by ham word rates to find words that occur more in spam subject lines.\n",
    "male_enriched_subs = (male_sub_rates / female_subs_rates).sort_values(ascending=False)\n",
    "male_enriched_subs.head(5)"
   ]
  },
  {
   "cell_type": "code",
   "execution_count": 46,
   "metadata": {},
   "outputs": [
    {
     "data": {
      "text/plain": [
       "enron      1428.841571\n",
       "past        227.504871\n",
       "outage      217.794298\n",
       "tw          176.639961\n",
       "summary     163.692529\n",
       "dtype: float64"
      ]
     },
     "execution_count": 46,
     "metadata": {},
     "output_type": "execute_result"
    }
   ],
   "source": [
    "# These words are ranked by how much more often they show up in ham subject lines.\n",
    "female_enriched_subs = (female_subs_rates / male_subs_rates).sort_values(ascending=False)\n",
    "female_enriched_words.head(5)"
   ]
  },
  {
   "cell_type": "markdown",
   "metadata": {
    "collapsed": true
   },
   "source": [
    "# Building a machine learning model"
   ]
  },
  {
   "cell_type": "markdown",
   "metadata": {},
   "source": [
    "### Features"
   ]
  },
  {
   "cell_type": "markdown",
   "metadata": {},
   "source": [
    "The first thing need to do is build our *features*. Features are numerical representations of your samples. In our intro example, we were provided with features. Now, we have to build our own."
   ]
  },
  {
   "cell_type": "code",
   "execution_count": 50,
   "metadata": {},
   "outputs": [
    {
     "data": {
      "text/html": [
       "<div>\n",
       "<table border=\"1\" class=\"dataframe\">\n",
       "  <thead>\n",
       "    <tr style=\"text-align: right;\">\n",
       "      <th></th>\n",
       "      <th>label</th>\n",
       "      <th>subject</th>\n",
       "    </tr>\n",
       "  </thead>\n",
       "  <tbody>\n",
       "    <tr>\n",
       "      <th>26956</th>\n",
       "      <td>ham</td>\n",
       "      <td>Out of Office AutoReply: PPL EnergyPlus, LLC</td>\n",
       "    </tr>\n",
       "    <tr>\n",
       "      <th>65364</th>\n",
       "      <td>spam</td>\n",
       "      <td>FOU YOUR KIND ATTENTION.</td>\n",
       "    </tr>\n",
       "    <tr>\n",
       "      <th>84685</th>\n",
       "      <td>spam</td>\n",
       "      <td>Confidence is back</td>\n",
       "    </tr>\n",
       "    <tr>\n",
       "      <th>30820</th>\n",
       "      <td>ham</td>\n",
       "      <td>Note: this Return Receipt only acknowledges th...</td>\n",
       "    </tr>\n",
       "    <tr>\n",
       "      <th>57910</th>\n",
       "      <td>ham</td>\n",
       "      <td>2nd Revised Ratings Outline - TW</td>\n",
       "    </tr>\n",
       "  </tbody>\n",
       "</table>\n",
       "</div>"
      ],
      "text/plain": [
       "      label                                            subject\n",
       "26956   ham       Out of Office AutoReply: PPL EnergyPlus, LLC\n",
       "65364  spam                         FOU YOUR KIND ATTENTION.  \n",
       "84685  spam                                 Confidence is back\n",
       "30820   ham  Note: this Return Receipt only acknowledges th...\n",
       "57910   ham                   2nd Revised Ratings Outline - TW"
      ]
     },
     "execution_count": 50,
     "metadata": {},
     "output_type": "execute_result"
    }
   ],
   "source": [
    "rga_TRAIN_df.head()"
   ]
  },
  {
   "cell_type": "markdown",
   "metadata": {},
   "source": [
    "The work we've done already is a good place to start. For each spammy or hammy word, we can create a feature that indicates if it shows up in the subject line."
   ]
  },
  {
   "cell_type": "code",
   "execution_count": 51,
   "metadata": {
    "collapsed": true
   },
   "outputs": [],
   "source": [
    "# Let's get top spam words and top ham words again.\n",
    "top_male_subreddits = male_enriched_subs[male_enriched_subs>10].index.tolist()\n",
    "top_female_subreddits = female_enriched_subs[female_enriched_subs>10].index.tolist()\n",
    "\n",
    "# For each of these words, we will create a \"feature\" column.\n",
    "# If the word is in the subject line, we put a 1, otherwise, 0.\n",
    "for word in top_male_subreddits + top_female_subreddits:\n",
    "    # First for the training data.\n",
    "    rga_TRAIN_df['feature_%s' % word] = rga_TRAIN_df['subreddit'].str.lower().map(\n",
    "        lambda subject: word in subject\n",
    "    ).astype(int)\n",
    "    # Then for the test data.\n",
    "    rga_TEST_df['feature_%s' % word] = rga_TEST_df['subreddit'].str.lower().map(\n",
    "        lambda subject: word in subject\n",
    "    ).astype(int)"
   ]
  },
  {
   "cell_type": "code",
   "execution_count": 52,
   "metadata": {},
   "outputs": [
    {
     "data": {
      "text/html": [
       "<div>\n",
       "<table border=\"1\" class=\"dataframe\">\n",
       "  <thead>\n",
       "    <tr style=\"text-align: right;\">\n",
       "      <th></th>\n",
       "      <th>label</th>\n",
       "      <th>subject</th>\n",
       "      <th>feature_meds</th>\n",
       "      <th>feature_viagra</th>\n",
       "      <th>feature_75%</th>\n",
       "      <th>feature_cheap</th>\n",
       "      <th>feature_100%</th>\n",
       "      <th>feature_$20</th>\n",
       "      <th>feature_penny</th>\n",
       "      <th>feature_:)</th>\n",
       "      <th>...</th>\n",
       "      <th>feature_potential</th>\n",
       "      <th>feature_50</th>\n",
       "      <th>feature_bond</th>\n",
       "      <th>feature_3rd</th>\n",
       "      <th>feature_geoffrey</th>\n",
       "      <th>feature_partners</th>\n",
       "      <th>feature_decision</th>\n",
       "      <th>feature_follow</th>\n",
       "      <th>feature_bad</th>\n",
       "      <th>feature_oct</th>\n",
       "    </tr>\n",
       "  </thead>\n",
       "  <tbody>\n",
       "    <tr>\n",
       "      <th>26956</th>\n",
       "      <td>ham</td>\n",
       "      <td>Out of Office AutoReply: PPL EnergyPlus, LLC</td>\n",
       "      <td>0</td>\n",
       "      <td>0</td>\n",
       "      <td>0</td>\n",
       "      <td>0</td>\n",
       "      <td>0</td>\n",
       "      <td>0</td>\n",
       "      <td>0</td>\n",
       "      <td>0</td>\n",
       "      <td>...</td>\n",
       "      <td>0</td>\n",
       "      <td>0</td>\n",
       "      <td>0</td>\n",
       "      <td>0</td>\n",
       "      <td>0</td>\n",
       "      <td>0</td>\n",
       "      <td>0</td>\n",
       "      <td>0</td>\n",
       "      <td>0</td>\n",
       "      <td>0</td>\n",
       "    </tr>\n",
       "    <tr>\n",
       "      <th>65364</th>\n",
       "      <td>spam</td>\n",
       "      <td>FOU YOUR KIND ATTENTION.</td>\n",
       "      <td>0</td>\n",
       "      <td>0</td>\n",
       "      <td>0</td>\n",
       "      <td>0</td>\n",
       "      <td>0</td>\n",
       "      <td>0</td>\n",
       "      <td>0</td>\n",
       "      <td>0</td>\n",
       "      <td>...</td>\n",
       "      <td>0</td>\n",
       "      <td>0</td>\n",
       "      <td>0</td>\n",
       "      <td>0</td>\n",
       "      <td>0</td>\n",
       "      <td>0</td>\n",
       "      <td>0</td>\n",
       "      <td>0</td>\n",
       "      <td>0</td>\n",
       "      <td>0</td>\n",
       "    </tr>\n",
       "    <tr>\n",
       "      <th>84685</th>\n",
       "      <td>spam</td>\n",
       "      <td>Confidence is back</td>\n",
       "      <td>0</td>\n",
       "      <td>0</td>\n",
       "      <td>0</td>\n",
       "      <td>0</td>\n",
       "      <td>0</td>\n",
       "      <td>0</td>\n",
       "      <td>0</td>\n",
       "      <td>0</td>\n",
       "      <td>...</td>\n",
       "      <td>0</td>\n",
       "      <td>0</td>\n",
       "      <td>0</td>\n",
       "      <td>0</td>\n",
       "      <td>0</td>\n",
       "      <td>0</td>\n",
       "      <td>0</td>\n",
       "      <td>0</td>\n",
       "      <td>0</td>\n",
       "      <td>0</td>\n",
       "    </tr>\n",
       "    <tr>\n",
       "      <th>30820</th>\n",
       "      <td>ham</td>\n",
       "      <td>Note: this Return Receipt only acknowledges th...</td>\n",
       "      <td>0</td>\n",
       "      <td>0</td>\n",
       "      <td>0</td>\n",
       "      <td>0</td>\n",
       "      <td>0</td>\n",
       "      <td>0</td>\n",
       "      <td>0</td>\n",
       "      <td>0</td>\n",
       "      <td>...</td>\n",
       "      <td>0</td>\n",
       "      <td>0</td>\n",
       "      <td>0</td>\n",
       "      <td>0</td>\n",
       "      <td>0</td>\n",
       "      <td>0</td>\n",
       "      <td>0</td>\n",
       "      <td>0</td>\n",
       "      <td>0</td>\n",
       "      <td>0</td>\n",
       "    </tr>\n",
       "    <tr>\n",
       "      <th>57910</th>\n",
       "      <td>ham</td>\n",
       "      <td>2nd Revised Ratings Outline - TW</td>\n",
       "      <td>0</td>\n",
       "      <td>0</td>\n",
       "      <td>0</td>\n",
       "      <td>0</td>\n",
       "      <td>0</td>\n",
       "      <td>0</td>\n",
       "      <td>0</td>\n",
       "      <td>0</td>\n",
       "      <td>...</td>\n",
       "      <td>0</td>\n",
       "      <td>0</td>\n",
       "      <td>0</td>\n",
       "      <td>0</td>\n",
       "      <td>0</td>\n",
       "      <td>0</td>\n",
       "      <td>0</td>\n",
       "      <td>0</td>\n",
       "      <td>0</td>\n",
       "      <td>0</td>\n",
       "    </tr>\n",
       "  </tbody>\n",
       "</table>\n",
       "<p>5 rows × 624 columns</p>\n",
       "</div>"
      ],
      "text/plain": [
       "      label                                            subject  feature_meds  \\\n",
       "26956   ham       Out of Office AutoReply: PPL EnergyPlus, LLC             0   \n",
       "65364  spam                         FOU YOUR KIND ATTENTION.               0   \n",
       "84685  spam                                 Confidence is back             0   \n",
       "30820   ham  Note: this Return Receipt only acknowledges th...             0   \n",
       "57910   ham                   2nd Revised Ratings Outline - TW             0   \n",
       "\n",
       "       feature_viagra  feature_75%  feature_cheap  feature_100%  feature_$20  \\\n",
       "26956               0            0              0             0            0   \n",
       "65364               0            0              0             0            0   \n",
       "84685               0            0              0             0            0   \n",
       "30820               0            0              0             0            0   \n",
       "57910               0            0              0             0            0   \n",
       "\n",
       "       feature_penny  feature_:)     ...       feature_potential  feature_50  \\\n",
       "26956              0           0     ...                       0           0   \n",
       "65364              0           0     ...                       0           0   \n",
       "84685              0           0     ...                       0           0   \n",
       "30820              0           0     ...                       0           0   \n",
       "57910              0           0     ...                       0           0   \n",
       "\n",
       "       feature_bond  feature_3rd  feature_geoffrey  feature_partners  \\\n",
       "26956             0            0                 0                 0   \n",
       "65364             0            0                 0                 0   \n",
       "84685             0            0                 0                 0   \n",
       "30820             0            0                 0                 0   \n",
       "57910             0            0                 0                 0   \n",
       "\n",
       "       feature_decision  feature_follow  feature_bad  feature_oct  \n",
       "26956                 0               0            0            0  \n",
       "65364                 0               0            0            0  \n",
       "84685                 0               0            0            0  \n",
       "30820                 0               0            0            0  \n",
       "57910                 0               0            0            0  \n",
       "\n",
       "[5 rows x 624 columns]"
      ]
     },
     "execution_count": 52,
     "metadata": {},
     "output_type": "execute_result"
    }
   ],
   "source": [
    "rga_TRAIN_df.head()"
   ]
  },
  {
   "cell_type": "code",
   "execution_count": 53,
   "metadata": {},
   "outputs": [
    {
     "data": {
      "text/plain": [
       "622"
      ]
     },
     "execution_count": 53,
     "metadata": {},
     "output_type": "execute_result"
    }
   ],
   "source": [
    "len(rga_TRAIN_df.columns)-2"
   ]
  },
  {
   "cell_type": "markdown",
   "metadata": {},
   "source": [
    "It's generally a good idea to explore the distribution of your features."
   ]
  },
  {
   "cell_type": "code",
   "execution_count": 54,
   "metadata": {},
   "outputs": [
    {
     "data": {
      "text/plain": [
       "0    70322\n",
       "1      470\n",
       "Name: feature_meds, dtype: int64"
      ]
     },
     "execution_count": 54,
     "metadata": {},
     "output_type": "execute_result"
    }
   ],
   "source": [
    "# How often does \"meds\" show up in subject lines?\n",
    "rga_TRAIN_df['feature_meds'].value_counts()"
   ]
  },
  {
   "cell_type": "code",
   "execution_count": 55,
   "metadata": {},
   "outputs": [
    {
     "data": {
      "text/html": [
       "<div>\n",
       "<table border=\"1\" class=\"dataframe\">\n",
       "  <thead>\n",
       "    <tr style=\"text-align: right;\">\n",
       "      <th>label</th>\n",
       "      <th>ham</th>\n",
       "      <th>spam</th>\n",
       "    </tr>\n",
       "    <tr>\n",
       "      <th>feature_meds</th>\n",
       "      <th></th>\n",
       "      <th></th>\n",
       "    </tr>\n",
       "  </thead>\n",
       "  <tbody>\n",
       "    <tr>\n",
       "      <th>0</th>\n",
       "      <td>29802</td>\n",
       "      <td>40520</td>\n",
       "    </tr>\n",
       "    <tr>\n",
       "      <th>1</th>\n",
       "      <td>1</td>\n",
       "      <td>469</td>\n",
       "    </tr>\n",
       "  </tbody>\n",
       "</table>\n",
       "</div>"
      ],
      "text/plain": [
       "label           ham   spam\n",
       "feature_meds              \n",
       "0             29802  40520\n",
       "1                 1    469"
      ]
     },
     "execution_count": 55,
     "metadata": {},
     "output_type": "execute_result"
    }
   ],
   "source": [
    "# How often does \"meds\" show up in ham vs spam subject lines?\n",
    "pd.crosstab(rga_TRAIN_df['feature_meds'], rga_TRAIN_df['label'])"
   ]
  },
  {
   "cell_type": "code",
   "execution_count": 56,
   "metadata": {},
   "outputs": [
    {
     "data": {
      "text/html": [
       "<div>\n",
       "<table border=\"1\" class=\"dataframe\">\n",
       "  <thead>\n",
       "    <tr style=\"text-align: right;\">\n",
       "      <th>label</th>\n",
       "      <th>ham</th>\n",
       "      <th>spam</th>\n",
       "    </tr>\n",
       "    <tr>\n",
       "      <th>feature_past</th>\n",
       "      <th></th>\n",
       "      <th></th>\n",
       "    </tr>\n",
       "  </thead>\n",
       "  <tbody>\n",
       "    <tr>\n",
       "      <th>0</th>\n",
       "      <td>29637</td>\n",
       "      <td>40987</td>\n",
       "    </tr>\n",
       "    <tr>\n",
       "      <th>1</th>\n",
       "      <td>166</td>\n",
       "      <td>2</td>\n",
       "    </tr>\n",
       "  </tbody>\n",
       "</table>\n",
       "</div>"
      ],
      "text/plain": [
       "label           ham   spam\n",
       "feature_past              \n",
       "0             29637  40987\n",
       "1               166      2"
      ]
     },
     "execution_count": 56,
     "metadata": {},
     "output_type": "execute_result"
    }
   ],
   "source": [
    "# How often does \"past\" show up in ham vs spam subject lines?\n",
    "pd.crosstab(rga_TRAIN_df['feature_past'], rga_TRAIN_df['label'])"
   ]
  },
  {
   "cell_type": "markdown",
   "metadata": {},
   "source": [
    "### Random forest model version 1"
   ]
  },
  {
   "cell_type": "code",
   "execution_count": 57,
   "metadata": {},
   "outputs": [
    {
     "data": {
      "text/plain": [
       "['feature_meds',\n",
       " 'feature_viagra',\n",
       " 'feature_75%',\n",
       " 'feature_cheap',\n",
       " 'feature_100%',\n",
       " 'feature_$20',\n",
       " 'feature_penny',\n",
       " 'feature_:)',\n",
       " 'feature_xp',\n",
       " 'feature_sex',\n",
       " 'feature_prescription',\n",
       " 'feature_thread',\n",
       " 'feature_specials',\n",
       " 'feature_low',\n",
       " 'feature_generic',\n",
       " 'feature_photoshop',\n",
       " 'feature_amazing',\n",
       " 'feature_boost',\n",
       " 'feature_wife',\n",
       " 'feature_logo',\n",
       " 'feature_loans',\n",
       " 'feature_soft',\n",
       " 'feature_each',\n",
       " 'feature_80%',\n",
       " 'feature_mens',\n",
       " 'feature_software',\n",
       " 'feature_ebay',\n",
       " 'feature_nothing',\n",
       " 'feature_her',\n",
       " 'feature_cable',\n",
       " 'feature_recommended',\n",
       " 'feature_choose',\n",
       " 'feature_someone',\n",
       " 'feature_6.0',\n",
       " 'feature_unbelievable',\n",
       " 'feature_mortgage',\n",
       " 'feature_health',\n",
       " 'feature_pc',\n",
       " 'feature_woman',\n",
       " 'feature_feel',\n",
       " 'feature_drugs',\n",
       " 'feature_extra',\n",
       " 'feature_windows',\n",
       " 'feature_download',\n",
       " 'feature_reduce',\n",
       " 'feature_stop',\n",
       " 'feature_custom',\n",
       " 'feature_re[2]:',\n",
       " 'feature_easy',\n",
       " 'feature_paypal',\n",
       " 'feature_traffic',\n",
       " 'feature_used',\n",
       " 'feature_brand',\n",
       " 'feature_needed!',\n",
       " 'feature_healthy',\n",
       " \"feature_'\",\n",
       " 'feature_dating',\n",
       " 'feature_z',\n",
       " 'feature_dvd',\n",
       " 'feature_secret',\n",
       " 'feature_much',\n",
       " 'feature_growth',\n",
       " 'feature_less',\n",
       " 'feature_best',\n",
       " 'feature_pill',\n",
       " 'feature_from:',\n",
       " 'feature_stars',\n",
       " 'feature_starting',\n",
       " 'feature_continental.com',\n",
       " 'feature_emerging',\n",
       " 'feature_pertaining',\n",
       " 'feature_x',\n",
       " 'feature_magazine',\n",
       " 'feature_sexy',\n",
       " 'feature_own',\n",
       " 'feature_sun,',\n",
       " 'feature_extending',\n",
       " 'feature_wide',\n",
       " 'feature_provide',\n",
       " 'feature_take',\n",
       " 'feature_never',\n",
       " 'feature_every',\n",
       " 'feature_remedy',\n",
       " 'feature_everything',\n",
       " 'feature_hard',\n",
       " 'feature_verify',\n",
       " 'feature_his',\n",
       " 'feature_*',\n",
       " 'feature_grow',\n",
       " 'feature_2003',\n",
       " 'feature_better',\n",
       " 'feature_unique',\n",
       " 'feature_their',\n",
       " 'feature_subject',\n",
       " 'feature_wanna',\n",
       " 'feature_breakout',\n",
       " 'feature_dj',\n",
       " 'feature_she',\n",
       " 'feature_mr.',\n",
       " 'feature_jul',\n",
       " 'feature_lose',\n",
       " 'feature_re[6]:',\n",
       " 'feature_selection',\n",
       " 'feature_very',\n",
       " 'feature_soon',\n",
       " 'feature_onepass',\n",
       " 'feature_experience',\n",
       " 'feature_winner',\n",
       " 'feature_banking',\n",
       " 'feature_male',\n",
       " 'feature_+',\n",
       " 'feature_wed,',\n",
       " 'feature_spend',\n",
       " 'feature_care',\n",
       " 'feature_others',\n",
       " 'feature_find',\n",
       " 'feature_quality',\n",
       " 'feature_>>',\n",
       " 'feature_cute',\n",
       " 'feature_del',\n",
       " 'feature_paris',\n",
       " 'feature_girls',\n",
       " 'feature_investors',\n",
       " 'feature_really',\n",
       " 'feature_them',\n",
       " 'feature_confidence',\n",
       " 'feature_sterling',\n",
       " 'feature_!!!!',\n",
       " 'feature_teen',\n",
       " 'feature_q',\n",
       " 'feature_want',\n",
       " 'feature_seminars',\n",
       " 'feature_player',\n",
       " 'feature_apple',\n",
       " 'feature_sister',\n",
       " 'feature_professional',\n",
       " 'feature_like',\n",
       " 'feature_bottom',\n",
       " 'feature_learn',\n",
       " 'feature_g',\n",
       " 'feature_greatest',\n",
       " \"feature_there's\",\n",
       " 'feature_assist',\n",
       " 'feature_free!',\n",
       " 'feature_3000',\n",
       " 'feature_catch',\n",
       " 'feature_delivers',\n",
       " 'feature_secure',\n",
       " 'feature_guys',\n",
       " 'feature_highly',\n",
       " 'feature_congratulations',\n",
       " 'feature_had',\n",
       " 'feature_talk',\n",
       " 'feature_great',\n",
       " 'feature_remember',\n",
       " 'feature_opportunity:',\n",
       " 'feature_%',\n",
       " 'feature_..',\n",
       " 'feature_buy',\n",
       " \"feature_don't\",\n",
       " \"feature_won't\",\n",
       " 'feature_pro',\n",
       " 'feature_clear',\n",
       " 'feature_living',\n",
       " 'feature_hot',\n",
       " 'feature_powerhouse',\n",
       " 'feature_degree',\n",
       " 'feature_shipping',\n",
       " 'feature_make',\n",
       " 'feature_save',\n",
       " 'feature_fly',\n",
       " 'feature_medical',\n",
       " 'feature_married',\n",
       " 'feature_americans',\n",
       " 'feature_cam',\n",
       " 'feature_ease',\n",
       " 'feature_mr',\n",
       " 'feature_cure',\n",
       " 'feature_hilton',\n",
       " 'feature_ms',\n",
       " 'feature_p',\n",
       " 'feature_click',\n",
       " 'feature_gains',\n",
       " 'feature_too',\n",
       " 'feature_80',\n",
       " 'feature_significant',\n",
       " 'feature_hit',\n",
       " 'feature_dick',\n",
       " 'feature_join',\n",
       " 'feature_modern',\n",
       " 'feature_such',\n",
       " 'feature_deliver',\n",
       " 'feature_profile',\n",
       " 'feature_love',\n",
       " 'feature_bucks',\n",
       " 'feature_n',\n",
       " 'feature_play',\n",
       " 'feature_chance',\n",
       " 'feature_feeling',\n",
       " 'feature_tu',\n",
       " 'feature_tonite',\n",
       " 'feature_gems',\n",
       " 'feature_it?',\n",
       " 'feature_continued',\n",
       " 'feature_store',\n",
       " 'feature_success',\n",
       " 'feature_undervalued',\n",
       " 'feature_$50',\n",
       " 'feature_invalid',\n",
       " 'feature_double',\n",
       " 'feature_dark',\n",
       " 'feature_having',\n",
       " 'feature_discover',\n",
       " 'feature_mg',\n",
       " 'feature_curious',\n",
       " 'feature_shares',\n",
       " 'feature_then',\n",
       " 'feature_r',\n",
       " 'feature_stocks',\n",
       " 'feature_discount',\n",
       " 'feature_wish',\n",
       " 'feature_\"',\n",
       " 'feature_pick',\n",
       " 'feature_stock',\n",
       " 'feature_daughter',\n",
       " 'feature_online!',\n",
       " 'feature_blockbuster',\n",
       " 'feature_aim',\n",
       " 'feature_cancer',\n",
       " 'feature_spin',\n",
       " 'feature_expose',\n",
       " 'feature_advantage',\n",
       " 'feature_now.',\n",
       " 'feature_wonderful',\n",
       " 'feature_fuck',\n",
       " 'feature_valid',\n",
       " \"feature_isn't\",\n",
       " 'feature_right',\n",
       " \"feature_let's\",\n",
       " 'feature_homes',\n",
       " 'feature_fares',\n",
       " 'feature_out?',\n",
       " \"feature_here's\",\n",
       " 'feature_grande',\n",
       " 'feature_premium',\n",
       " 'feature_girlfriend',\n",
       " 'feature_selected',\n",
       " 'feature_becomes',\n",
       " 'feature_ever',\n",
       " 'feature_rich',\n",
       " 'feature_unlimited',\n",
       " 'feature_draw',\n",
       " 'feature_millenium',\n",
       " 'feature_laugh',\n",
       " 'feature_made',\n",
       " 'feature_re;',\n",
       " 'feature_l',\n",
       " 'feature_enron',\n",
       " 'feature_past',\n",
       " 'feature_outage',\n",
       " 'feature_tw',\n",
       " 'feature_summary',\n",
       " 'feature_due',\n",
       " 'feature_gas',\n",
       " 'feature_updated',\n",
       " 'feature_survey',\n",
       " 'feature_west',\n",
       " 'feature_confirmed',\n",
       " 'feature_committee',\n",
       " 'feature_capacity',\n",
       " 'feature_bankruptcy',\n",
       " 'feature_paso',\n",
       " 'feature_failure',\n",
       " 'feature_master',\n",
       " 'feature_merger',\n",
       " 'feature_corporate',\n",
       " 'feature_region',\n",
       " 'feature_meetings',\n",
       " 'feature_location',\n",
       " 'feature_request',\n",
       " 'feature_notification:',\n",
       " 'feature_agreement',\n",
       " 'feature_path',\n",
       " 'feature_presentation',\n",
       " 'feature_slightly',\n",
       " 'feature_password',\n",
       " 'feature_agenda',\n",
       " 'feature_cnn',\n",
       " 'feature_transactions',\n",
       " 'feature_plan',\n",
       " 'feature_november',\n",
       " 'feature_cbs',\n",
       " 'feature_regulatory',\n",
       " 'feature_numbers',\n",
       " 'feature_corp',\n",
       " 'feature_data',\n",
       " 'feature_options',\n",
       " 'feature_rto',\n",
       " 'feature_reminder:',\n",
       " 'feature_form',\n",
       " 'feature_october',\n",
       " 'feature_v.',\n",
       " 'feature_migration',\n",
       " 'feature_requests',\n",
       " 'feature_status',\n",
       " 'feature_plans',\n",
       " 'feature_meeting',\n",
       " 'feature_vs.',\n",
       " 'feature_california',\n",
       " 'feature_structure',\n",
       " 'feature_ercot',\n",
       " 'feature_sunday',\n",
       " 'feature_correction',\n",
       " 'feature_calendar',\n",
       " 'feature_strategy',\n",
       " 'feature_21,',\n",
       " 'feature_progress',\n",
       " 'feature_morn',\n",
       " 'feature_resume',\n",
       " 'feature_mail:',\n",
       " 'feature_football',\n",
       " 'feature_received',\n",
       " 'feature_board',\n",
       " 'feature_violation',\n",
       " 'feature_morgan',\n",
       " 'feature_ferc',\n",
       " 'feature_citizens',\n",
       " 'feature_extension',\n",
       " 'feature_station',\n",
       " 'feature_ca',\n",
       " 'feature_storage',\n",
       " 'feature_steve',\n",
       " 'feature_28,',\n",
       " 'feature_auction',\n",
       " 'feature_fantasy',\n",
       " 'feature_trades',\n",
       " 'feature_employee',\n",
       " 'feature_conference',\n",
       " 'feature_river',\n",
       " 'feature_opening',\n",
       " 'feature_assignments',\n",
       " 'feature_commission',\n",
       " 'feature_employees',\n",
       " 'feature_organization',\n",
       " 'feature_assignment',\n",
       " 'feature_heat',\n",
       " 'feature_competitive',\n",
       " 'feature_nomination',\n",
       " 'feature_requires',\n",
       " 'feature_budget',\n",
       " 'feature_policy',\n",
       " 'feature_schedule',\n",
       " 'feature_list',\n",
       " 'feature_no.',\n",
       " 'feature_successfully',\n",
       " 'feature_estimate',\n",
       " 'feature_recruiting',\n",
       " 'feature_floor',\n",
       " 'feature_reserve',\n",
       " 'feature_affiliate',\n",
       " 'feature_pulp',\n",
       " 'feature_talking',\n",
       " 'feature_projects',\n",
       " 'feature_league',\n",
       " 'feature_alert,',\n",
       " 'feature_2,',\n",
       " 'feature_mike',\n",
       " 'feature_fyi',\n",
       " 'feature_peak',\n",
       " 'feature_contract',\n",
       " 'feature_expense',\n",
       " 'feature_chris',\n",
       " 'feature_upstream',\n",
       " 'feature_utilities',\n",
       " 'feature_presentations',\n",
       " 'feature_confirms',\n",
       " 'feature_procedures',\n",
       " 'feature_launch',\n",
       " 'feature_north',\n",
       " 'feature_fw:',\n",
       " 'feature_validation',\n",
       " 'feature_carthage',\n",
       " 'feature_panel',\n",
       " 'feature_maintenance',\n",
       " 'feature_week:',\n",
       " 'feature_night!',\n",
       " 'feature_02',\n",
       " 'feature_london',\n",
       " 'feature_america',\n",
       " 'feature_wind',\n",
       " 'feature_point',\n",
       " 'feature_midday',\n",
       " 'feature_juan',\n",
       " 'feature_basis',\n",
       " 'feature_telephone',\n",
       " 'feature_2001:',\n",
       " 'feature_priority',\n",
       " 'feature_natural',\n",
       " \"feature_today's\",\n",
       " 'feature_support',\n",
       " 'feature_reporting',\n",
       " 'feature_update,',\n",
       " 'feature_haas',\n",
       " 'feature_dave',\n",
       " 'feature_related',\n",
       " 'feature_position',\n",
       " 'feature_changes',\n",
       " 'feature_start',\n",
       " 'feature_ng',\n",
       " 'feature_lunch',\n",
       " 'feature_executive',\n",
       " 'feature_refund',\n",
       " 'feature_coverage',\n",
       " 'feature_chicago',\n",
       " 'feature_ice',\n",
       " 'feature_lavorato',\n",
       " 'feature_breakfast',\n",
       " 'feature_13,',\n",
       " 'feature_blew',\n",
       " 'feature_campaign',\n",
       " 'feature_boston',\n",
       " 'feature_removal',\n",
       " 'feature_team',\n",
       " 'feature_state',\n",
       " 'feature_version',\n",
       " 'feature_invoice',\n",
       " 'feature_reports',\n",
       " 'feature_august',\n",
       " 'feature_bp',\n",
       " 'feature_description',\n",
       " 'feature_complaint',\n",
       " 'feature_rules',\n",
       " 'feature_6,',\n",
       " 'feature_generator',\n",
       " 'feature_florida',\n",
       " 'feature_derate',\n",
       " 'feature_daily',\n",
       " 'feature_williams',\n",
       " 'feature_planning',\n",
       " 'feature_evil',\n",
       " 'feature_et',\n",
       " 'feature_inc.',\n",
       " 'feature_reserves',\n",
       " 'feature_moved',\n",
       " 'feature_9,',\n",
       " 'feature_ea',\n",
       " 'feature_12,',\n",
       " 'feature_trip',\n",
       " 'feature_wire',\n",
       " 'feature_bar',\n",
       " 'feature_actual',\n",
       " 'feature_judge',\n",
       " 'feature_operations',\n",
       " 'feature_access',\n",
       " 'feature_lines',\n",
       " 'feature_allen',\n",
       " 'feature_rescheduled',\n",
       " 'feature_risk',\n",
       " 'feature_printing',\n",
       " 'feature_goldman',\n",
       " 'feature_fbi',\n",
       " 'feature_lc',\n",
       " 'feature_global',\n",
       " 'feature_infrastructure',\n",
       " 'feature_flows',\n",
       " 'feature_reconciliation',\n",
       " 'feature_forum',\n",
       " 'feature_replacement',\n",
       " 'feature_group',\n",
       " 'feature_plant',\n",
       " 'feature_management',\n",
       " 'feature_dash',\n",
       " 'feature_dec.',\n",
       " 'feature_txu',\n",
       " 'feature_desk',\n",
       " 'feature_pm',\n",
       " 'feature_associate',\n",
       " 'feature_northwestern',\n",
       " 'feature_passing',\n",
       " 'feature_favor',\n",
       " 'feature_regional',\n",
       " \"feature_tomorrow's\",\n",
       " 'feature_gray',\n",
       " 'feature_politics',\n",
       " 'feature_communications',\n",
       " 'feature_attend',\n",
       " 'feature_matters',\n",
       " 'feature_joint',\n",
       " 'feature_song',\n",
       " 'feature_29,',\n",
       " 'feature_restructuring',\n",
       " 'feature_feb.',\n",
       " 'feature_iv',\n",
       " 'feature_accounting',\n",
       " 'feature_electronic',\n",
       " 'feature_south',\n",
       " 'feature_continue',\n",
       " 'feature_jones',\n",
       " 'feature_ag',\n",
       " 'feature_japan',\n",
       " 'feature_48',\n",
       " 'feature_senate',\n",
       " 'feature_between',\n",
       " 'feature_commentary',\n",
       " 'feature_francisco',\n",
       " 'feature_later',\n",
       " 'feature_signed',\n",
       " 'feature_interconnection',\n",
       " 'feature_30,',\n",
       " 'feature_whitt',\n",
       " 'feature_rooms',\n",
       " 'feature_suit',\n",
       " 'feature_add',\n",
       " 'feature_lake',\n",
       " 'feature_notices',\n",
       " 'feature_contracts',\n",
       " 'feature_resources',\n",
       " 'feature_books',\n",
       " 'feature_18,',\n",
       " 'feature_login',\n",
       " 'feature_fuel',\n",
       " 'feature_robert',\n",
       " 'feature_administration',\n",
       " 'feature_users',\n",
       " 'feature_process',\n",
       " 'feature_listing',\n",
       " 'feature_air',\n",
       " 'feature_wood',\n",
       " 'feature_engage',\n",
       " 'feature_23rd',\n",
       " 'feature_hunting',\n",
       " 'feature_agency',\n",
       " 'feature_consulting',\n",
       " 'feature_pacific',\n",
       " 'feature_proposals',\n",
       " 'feature_policies',\n",
       " 'feature_dumas',\n",
       " 'feature_groups',\n",
       " 'feature_practice',\n",
       " 'feature_mission',\n",
       " 'feature_table',\n",
       " 'feature_tr',\n",
       " 'feature_portland',\n",
       " 'feature_regulation',\n",
       " 'feature_urgent:',\n",
       " 'feature_vote',\n",
       " 'feature_carr',\n",
       " 'feature_recovery',\n",
       " 'feature_approves',\n",
       " 'feature_calls',\n",
       " 'feature_red',\n",
       " 'feature_word',\n",
       " 'feature_update:',\n",
       " 'feature_procedure',\n",
       " 'feature_virus',\n",
       " 'feature_20,',\n",
       " 'feature_ii',\n",
       " 'feature_book',\n",
       " 'feature_expansion',\n",
       " 'feature_view',\n",
       " 'feature_diabetes',\n",
       " 'feature_construction',\n",
       " 'feature_general',\n",
       " 'feature_jan.',\n",
       " 'feature_dinner',\n",
       " 'feature_tickets',\n",
       " 'feature_2001',\n",
       " 'feature_window',\n",
       " 'feature_compliance',\n",
       " 'feature_reed',\n",
       " 'feature_investigation',\n",
       " 'feature_up!',\n",
       " 'feature_james',\n",
       " 'feature_field',\n",
       " 'feature_deferred',\n",
       " 'feature_urgent!',\n",
       " 'feature_seeing',\n",
       " 'feature_securities',\n",
       " 'feature_ltd.',\n",
       " 'feature_talent',\n",
       " 'feature_keystone',\n",
       " 'feature_practices',\n",
       " 'feature_facilities',\n",
       " 'feature_collections',\n",
       " 'feature_mw',\n",
       " 'feature_workshops',\n",
       " 'feature_former',\n",
       " 'feature_counts',\n",
       " 'feature_emergency',\n",
       " 'feature_&amp;',\n",
       " 'feature_events',\n",
       " 'feature_bound',\n",
       " 'feature_mich',\n",
       " 'feature_diego',\n",
       " 'feature_awards',\n",
       " 'feature_29',\n",
       " 'feature_msg',\n",
       " 'feature_project',\n",
       " 'feature_letter',\n",
       " 'feature_el',\n",
       " 'feature_winter',\n",
       " 'feature_approve',\n",
       " 'feature_10,',\n",
       " 'feature_payments',\n",
       " 'feature_corporation',\n",
       " 'feature_energy',\n",
       " 'feature_id',\n",
       " 'feature_northwest',\n",
       " 'feature_terms',\n",
       " 'feature_austin',\n",
       " 'feature_positions',\n",
       " 'feature_option',\n",
       " 'feature_potential',\n",
       " 'feature_50',\n",
       " 'feature_bond',\n",
       " 'feature_3rd',\n",
       " 'feature_geoffrey',\n",
       " 'feature_partners',\n",
       " 'feature_decision',\n",
       " 'feature_follow',\n",
       " 'feature_bad',\n",
       " 'feature_oct']"
      ]
     },
     "execution_count": 57,
     "metadata": {},
     "output_type": "execute_result"
    }
   ],
   "source": [
    "# Our model will need to know which columns contain features.\n",
    "features = [col for col in rga_TRAIN_df if col.startswith('feature')]\n",
    "features"
   ]
  },
  {
   "cell_type": "code",
   "execution_count": 58,
   "metadata": {},
   "outputs": [
    {
     "data": {
      "text/plain": [
       "622"
      ]
     },
     "execution_count": 58,
     "metadata": {},
     "output_type": "execute_result"
    }
   ],
   "source": [
    "len(features)"
   ]
  },
  {
   "cell_type": "code",
   "execution_count": 59,
   "metadata": {},
   "outputs": [
    {
     "data": {
      "text/plain": [
       "RandomForestClassifier(bootstrap=True, class_weight=None, criterion='gini',\n",
       "            max_depth=None, max_features='auto', max_leaf_nodes=None,\n",
       "            min_impurity_decrease=0.0, min_impurity_split=None,\n",
       "            min_samples_leaf=1, min_samples_split=2,\n",
       "            min_weight_fraction_leaf=0.0, n_estimators=32, n_jobs=-1,\n",
       "            oob_score=False, random_state=None, verbose=0,\n",
       "            warm_start=False)"
      ]
     },
     "execution_count": 59,
     "metadata": {},
     "output_type": "execute_result"
    }
   ],
   "source": [
    "# Create a new classifier\n",
    "rf_clf_v1 = ensemble.RandomForestClassifier( # http://scikit-learn.org/stable/modules/generated/sklearn.ensemble.RandomForestClassifier.html\n",
    "    n_estimators=32, # How many trees? More is better, but slower.\n",
    "    n_jobs=-1\n",
    ")\n",
    "\n",
    "# Fit our training data\n",
    "rf_clf_v1.fit(rga_TRAIN_df[features], rga_TRAIN_df['label'])"
   ]
  },
  {
   "cell_type": "code",
   "execution_count": 60,
   "metadata": {},
   "outputs": [
    {
     "name": "stdout",
     "output_type": "stream",
     "text": [
      "Random Forest v1 TRAIN accuracy is: 91.55%\n",
      "Random Forest v1 TEST accuracy is: 87.47%\n"
     ]
    }
   ],
   "source": [
    "# Make predictions\n",
    "rf_v1_predictions_train = rf_clf_v1.predict(rga_TRAIN_df[features])\n",
    "rf_v1_predictions_test = rf_clf_v1.predict(rga_TEST_df[features])\n",
    "\n",
    "# Measure accuracy\n",
    "rf_v1_acc_train = metrics.accuracy_score(rga_TRAIN_df['label'], rf_v1_predictions_train)\n",
    "rf_v1_acc_test = metrics.accuracy_score(rga_TEST_df['label'], rf_v1_predictions_test)\n",
    "\n",
    "print('Random Forest v1 TRAIN accuracy is: %.2f%%' % (rf_v1_acc_train*100))\n",
    "print('Random Forest v1 TEST accuracy is: %.2f%%' % (rf_v1_acc_test*100))"
   ]
  },
  {
   "cell_type": "markdown",
   "metadata": {},
   "source": [
    "Note the significant gap between train and test accuracy. The Random Forest algorithm can fit very tightly to data, sometimes too tightly. This is called \"overfitting.\" We can see from the train/test accuracy gap that our model is fitting to aspects of the data that matter only for the training set, and don't generalize well.  \n",
    "\n",
    "This is why we test! What can we do about it? More data is the best solution. As the amount of data you have increases, the gap between train and test accuracy generally *decreases*."
   ]
  },
  {
   "cell_type": "code",
   "execution_count": null,
   "metadata": {},
   "outputs": [
    {
     "data": {
      "image/png": "[encoded data removed]",
      "text/plain": [
       "<matplotlib.figure.Figure at 0x7f8d51c09048>"
      ]
     },
     "metadata": {},
     "output_type": "display_data"
    }
   ],
   "source": [
    "# This code trains models using a range of training set sizes and plots the train and test accuracy.\n",
    "\n",
    "# Here's the model we're going to evaluate\n",
    "rf_clf_v1_lc = ensemble.RandomForestClassifier( # http://scikit-learn.org/stable/modules/generated/sklearn.ensemble.RandomForestClassifier.html\n",
    "    n_estimators=8, # How many trees? More is better, but slower.\n",
    "    n_jobs=-1\n",
    ")\n",
    "\n",
    "# This function trains multiple models, 3 for each train size, and returns train and test score.\n",
    "train_sizes, train_scores, test_scores = model_selection.learning_curve(\n",
    "    rf_clf_v1_lc,\n",
    "    rga_TRAIN_df[features],\n",
    "    rga_TRAIN_df['label'],\n",
    "    cv=3,\n",
    "    train_sizes=[100, 200, 500, 1000, 2000, 5000, 10000, 20000]\n",
    ")\n",
    "\n",
    "# We average together scores from the 3 runs at each size\n",
    "train_scores_mean = 100*train_scores.mean(axis=1)\n",
    "train_scores_std = 100*train_scores.std(axis=1)\n",
    "test_scores_mean = 100*test_scores.mean(axis=1)\n",
    "test_scores_std = 100*test_scores.std(axis=1)\n",
    "\n",
    "# Finally, let's plot the results\n",
    "matplotlib.pyplot.figure()\n",
    "matplotlib.pyplot.title('Train and Test Accurcy by Training Examples', y=1.02)\n",
    "matplotlib.pyplot.xlabel('Training Examples')\n",
    "matplotlib.pyplot.ylabel('Accuracy (%)')\n",
    "matplotlib.pyplot.grid()\n",
    "matplotlib.pyplot.fill_between(train_sizes, train_scores_mean - train_scores_std,\n",
    "                     train_scores_mean + train_scores_std, alpha=0.1,\n",
    "                     color=\"r\")\n",
    "matplotlib.pyplot.fill_between(train_sizes, test_scores_mean - test_scores_std,\n",
    "                     test_scores_mean + test_scores_std, alpha=0.1, color=\"g\")\n",
    "matplotlib.pyplot.plot(train_sizes, train_scores_mean, 'o-', color=\"r\",\n",
    "             label=\"Training score\")\n",
    "matplotlib.pyplot.plot(train_sizes, test_scores_mean, 'o-', color=\"g\",\n",
    "             label=\"Test score\")\n",
    "_ = matplotlib.pyplot.legend(loc=\"best\")"
   ]
  },
  {
   "cell_type": "markdown",
   "metadata": {},
   "source": [
    "### Model version 2: learn from version 1"
   ]
  },
  {
   "cell_type": "markdown",
   "metadata": {},
   "source": [
    "What does model v1 miss?"
   ]
  },
  {
   "cell_type": "code",
   "execution_count": 62,
   "metadata": {},
   "outputs": [
    {
     "data": {
      "text/html": [
       "<div>\n",
       "<table border=\"1\" class=\"dataframe\">\n",
       "  <thead>\n",
       "    <tr style=\"text-align: right;\">\n",
       "      <th></th>\n",
       "      <th>subject</th>\n",
       "      <th>label</th>\n",
       "    </tr>\n",
       "  </thead>\n",
       "  <tbody>\n",
       "    <tr>\n",
       "      <th>90264</th>\n",
       "      <td>Notice</td>\n",
       "      <td>spam</td>\n",
       "    </tr>\n",
       "    <tr>\n",
       "      <th>11545</th>\n",
       "      <td>RE: eNYMEX</td>\n",
       "      <td>ham</td>\n",
       "    </tr>\n",
       "    <tr>\n",
       "      <th>59592</th>\n",
       "      <td>RE: priorities for 1/16 and accomplishments fo...</td>\n",
       "      <td>ham</td>\n",
       "    </tr>\n",
       "    <tr>\n",
       "      <th>38917</th>\n",
       "      <td>RE: 2 things</td>\n",
       "      <td>ham</td>\n",
       "    </tr>\n",
       "    <tr>\n",
       "      <th>55301</th>\n",
       "      <td>RE: Big Pig</td>\n",
       "      <td>ham</td>\n",
       "    </tr>\n",
       "    <tr>\n",
       "      <th>36544</th>\n",
       "      <td>Dynegy Discussions</td>\n",
       "      <td>ham</td>\n",
       "    </tr>\n",
       "    <tr>\n",
       "      <th>74289</th>\n",
       "      <td>St0ck Maven Newsletter</td>\n",
       "      <td>spam</td>\n",
       "    </tr>\n",
       "    <tr>\n",
       "      <th>80926</th>\n",
       "      <td>To comb as smacker</td>\n",
       "      <td>spam</td>\n",
       "    </tr>\n",
       "    <tr>\n",
       "      <th>35148</th>\n",
       "      <td>快樂的最佳去趾watson@enron.com</td>\n",
       "      <td>spam</td>\n",
       "    </tr>\n",
       "    <tr>\n",
       "      <th>61719</th>\n",
       "      <td>Second Cataract Surgery</td>\n",
       "      <td>ham</td>\n",
       "    </tr>\n",
       "    <tr>\n",
       "      <th>22526</th>\n",
       "      <td>Oakhill LOI</td>\n",
       "      <td>ham</td>\n",
       "    </tr>\n",
       "    <tr>\n",
       "      <th>34557</th>\n",
       "      <td>Good morning.</td>\n",
       "      <td>spam</td>\n",
       "    </tr>\n",
       "    <tr>\n",
       "      <th>4344</th>\n",
       "      <td>YOUR PRIZE</td>\n",
       "      <td>ham</td>\n",
       "    </tr>\n",
       "    <tr>\n",
       "      <th>43589</th>\n",
       "      <td>Re:Таможенная База Данных</td>\n",
       "      <td>spam</td>\n",
       "    </tr>\n",
       "    <tr>\n",
       "      <th>19814</th>\n",
       "      <td>Asset Sales Chart</td>\n",
       "      <td>ham</td>\n",
       "    </tr>\n",
       "    <tr>\n",
       "      <th>10625</th>\n",
       "      <td>Re:</td>\n",
       "      <td>spam</td>\n",
       "    </tr>\n",
       "    <tr>\n",
       "      <th>27644</th>\n",
       "      <td>This Week</td>\n",
       "      <td>ham</td>\n",
       "    </tr>\n",
       "    <tr>\n",
       "      <th>79862</th>\n",
       "      <td>lasts for 36 hours</td>\n",
       "      <td>spam</td>\n",
       "    </tr>\n",
       "    <tr>\n",
       "      <th>68326</th>\n",
       "      <td>RE: Hello</td>\n",
       "      <td>ham</td>\n",
       "    </tr>\n",
       "    <tr>\n",
       "      <th>76705</th>\n",
       "      <td>Fw:</td>\n",
       "      <td>spam</td>\n",
       "    </tr>\n",
       "    <tr>\n",
       "      <th>45635</th>\n",
       "      <td>Guadalupe Guaranty update</td>\n",
       "      <td>ham</td>\n",
       "    </tr>\n",
       "    <tr>\n",
       "      <th>85269</th>\n",
       "      <td>Client Update</td>\n",
       "      <td>spam</td>\n",
       "    </tr>\n",
       "    <tr>\n",
       "      <th>31717</th>\n",
       "      <td>[Fwd: Virus Warning!]</td>\n",
       "      <td>ham</td>\n",
       "    </tr>\n",
       "    <tr>\n",
       "      <th>27889</th>\n",
       "      <td>Tans Pecos scenarios</td>\n",
       "      <td>ham</td>\n",
       "    </tr>\n",
       "    <tr>\n",
       "      <th>831</th>\n",
       "      <td>Little st0cks Are Coming Up Big</td>\n",
       "      <td>spam</td>\n",
       "    </tr>\n",
       "    <tr>\n",
       "      <th>64727</th>\n",
       "      <td>Enpower/Power DPR</td>\n",
       "      <td>ham</td>\n",
       "    </tr>\n",
       "    <tr>\n",
       "      <th>15461</th>\n",
       "      <td>Re:</td>\n",
       "      <td>spam</td>\n",
       "    </tr>\n",
       "    <tr>\n",
       "      <th>90704</th>\n",
       "      <td>LINDAS NOTIFICATION!</td>\n",
       "      <td>spam</td>\n",
       "    </tr>\n",
       "    <tr>\n",
       "      <th>36721</th>\n",
       "      <td>Genco/ROC</td>\n",
       "      <td>ham</td>\n",
       "    </tr>\n",
       "    <tr>\n",
       "      <th>74495</th>\n",
       "      <td>real soulmates^date one today</td>\n",
       "      <td>spam</td>\n",
       "    </tr>\n",
       "  </tbody>\n",
       "</table>\n",
       "</div>"
      ],
      "text/plain": [
       "                                                 subject label\n",
       "90264                                             Notice  spam\n",
       "11545                                         RE: eNYMEX   ham\n",
       "59592  RE: priorities for 1/16 and accomplishments fo...   ham\n",
       "38917                                       RE: 2 things   ham\n",
       "55301                                        RE: Big Pig   ham\n",
       "36544                                 Dynegy Discussions   ham\n",
       "74289                             St0ck Maven Newsletter  spam\n",
       "80926                                 To comb as smacker  spam\n",
       "35148                            快樂的最佳去趾watson@enron.com  spam\n",
       "61719                            Second Cataract Surgery   ham\n",
       "22526                                        Oakhill LOI   ham\n",
       "34557                                      Good morning.  spam\n",
       "4344                                         YOUR PRIZE    ham\n",
       "43589                          Re:Таможенная База Данных  spam\n",
       "19814                                  Asset Sales Chart   ham\n",
       "10625                                               Re:   spam\n",
       "27644                                          This Week   ham\n",
       "79862                                 lasts for 36 hours  spam\n",
       "68326                                          RE: Hello   ham\n",
       "76705                                                Fw:  spam\n",
       "45635                          Guadalupe Guaranty update   ham\n",
       "85269                                      Client Update  spam\n",
       "31717                              [Fwd: Virus Warning!]   ham\n",
       "27889                               Tans Pecos scenarios   ham\n",
       "831                      Little st0cks Are Coming Up Big  spam\n",
       "64727                                  Enpower/Power DPR   ham\n",
       "15461                                                Re:  spam\n",
       "90704                               LINDAS NOTIFICATION!  spam\n",
       "36721                                          Genco/ROC   ham\n",
       "74495                      real soulmates^date one today  spam"
      ]
     },
     "execution_count": 62,
     "metadata": {},
     "output_type": "execute_result"
    }
   ],
   "source": [
    "rga_TRAIN_df[rga_TRAIN_df['label']!=rf_v1_predictions_train][['subject', 'label']].sample(30)"
   ]
  },
  {
   "cell_type": "code",
   "execution_count": 63,
   "metadata": {
    "collapsed": true
   },
   "outputs": [],
   "source": [
    "def add_features_v2(df):\n",
    "    df['feature_ALL_CAPS'] = (df['subject'] == df['subject'].str.upper()).astype(int)\n",
    "    df['feature_all_lower'] = (df['subject'] == df['subject'].str.lower()).astype(int)\n",
    "    df['feature_all_ascii_chars'] = df['subject'].map(lambda s: all(ord(c) < 128 for c in s)).astype(int)\n",
    "    df['feature_$'] = df['subject'].map(lambda x: '$' in x).astype(int)\n",
    "    df['feature_@'] = df['subject'].map(lambda x: '@' in x).astype(int)\n",
    "    df['feature_0'] = df['subject'].map(lambda x: '0' in x).astype(int)\n",
    "    df['feature_:)'] = df['subject'].map(lambda x: ':)' in x).astype(int)\n",
    "    df['feature_memy'] = df['subject'].str.lower().map(lambda x: 'me' in x or 'my' in x).astype(int)\n",
    "    df['feature_re'] = df['subject'].str.lower().map(lambda s: s.startswith('re:')).astype(int)\n",
    "    df['feature_fwd'] = df['subject'].str.lower().map(lambda s: s.startswith('fw:') or s.startswith('fwd:')).astype(int)\n",
    "\n",
    "add_features_v2(rga_TRAIN_df)\n",
    "add_features_v2(rga_TEST_df)"
   ]
  },
  {
   "cell_type": "code",
   "execution_count": 64,
   "metadata": {},
   "outputs": [
    {
     "data": {
      "text/html": [
       "<div>\n",
       "<table border=\"1\" class=\"dataframe\">\n",
       "  <thead>\n",
       "    <tr style=\"text-align: right;\">\n",
       "      <th>label</th>\n",
       "      <th>ham</th>\n",
       "      <th>spam</th>\n",
       "    </tr>\n",
       "    <tr>\n",
       "      <th>feature_all_ascii_chars</th>\n",
       "      <th></th>\n",
       "      <th></th>\n",
       "    </tr>\n",
       "  </thead>\n",
       "  <tbody>\n",
       "    <tr>\n",
       "      <th>0</th>\n",
       "      <td>12</td>\n",
       "      <td>11019</td>\n",
       "    </tr>\n",
       "    <tr>\n",
       "      <th>1</th>\n",
       "      <td>29791</td>\n",
       "      <td>29970</td>\n",
       "    </tr>\n",
       "  </tbody>\n",
       "</table>\n",
       "</div>"
      ],
      "text/plain": [
       "label                      ham   spam\n",
       "feature_all_ascii_chars              \n",
       "0                           12  11019\n",
       "1                        29791  29970"
      ]
     },
     "execution_count": 64,
     "metadata": {},
     "output_type": "execute_result"
    }
   ],
   "source": [
    "pd.crosstab(rga_TRAIN_df['feature_all_ascii_chars'], rga_TRAIN_df['label'])"
   ]
  },
  {
   "cell_type": "code",
   "execution_count": 65,
   "metadata": {},
   "outputs": [
    {
     "data": {
      "text/html": [
       "<div>\n",
       "<table border=\"1\" class=\"dataframe\">\n",
       "  <thead>\n",
       "    <tr style=\"text-align: right;\">\n",
       "      <th>label</th>\n",
       "      <th>ham</th>\n",
       "      <th>spam</th>\n",
       "    </tr>\n",
       "    <tr>\n",
       "      <th>feature_fwd</th>\n",
       "      <th></th>\n",
       "      <th></th>\n",
       "    </tr>\n",
       "  </thead>\n",
       "  <tbody>\n",
       "    <tr>\n",
       "      <th>0</th>\n",
       "      <td>25654</td>\n",
       "      <td>40659</td>\n",
       "    </tr>\n",
       "    <tr>\n",
       "      <th>1</th>\n",
       "      <td>4149</td>\n",
       "      <td>330</td>\n",
       "    </tr>\n",
       "  </tbody>\n",
       "</table>\n",
       "</div>"
      ],
      "text/plain": [
       "label          ham   spam\n",
       "feature_fwd              \n",
       "0            25654  40659\n",
       "1             4149    330"
      ]
     },
     "execution_count": 65,
     "metadata": {},
     "output_type": "execute_result"
    }
   ],
   "source": [
    "pd.crosstab(rga_TRAIN_df['feature_fwd'], rga_TRAIN_df['label'])"
   ]
  },
  {
   "cell_type": "code",
   "execution_count": 66,
   "metadata": {},
   "outputs": [
    {
     "name": "stdout",
     "output_type": "stream",
     "text": [
      "Random Forest v2 TRAIN accuracy is: 95.96%\n",
      "Random Forest v2 TEST accuracy is: 92.10%\n"
     ]
    }
   ],
   "source": [
    "# Our features have changed, so let's get the new set of names\n",
    "features = [col for col in rga_TRAIN_df if col.startswith('feature')]\n",
    "\n",
    "# Create a new classifier\n",
    "rf_clf_v2 = ensemble.RandomForestClassifier( # http://scikit-learn.org/stable/modules/generated/sklearn.ensemble.RandomForestClassifier.html\n",
    "    n_estimators=32, # How many trees? More is better, but slower.\n",
    "    n_jobs=-1\n",
    ")\n",
    "\n",
    "# Fit our training data\n",
    "rf_clf_v2.fit(rga_TRAIN_df[features], rga_TRAIN_df['label'])\n",
    "\n",
    "# Make predictions on train and test\n",
    "rf_v2_predictions_train = rf_clf_v2.predict(rga_TRAIN_df[features])\n",
    "rf_v2_predictions_test = rf_clf_v2.predict(rga_TEST_df[features])\n",
    "\n",
    "# Evaluate performance\n",
    "rf_v2_acc_train = metrics.accuracy_score(rga_TRAIN_df['label'], rf_v2_predictions_train)\n",
    "rf_v2_acc_test = metrics.accuracy_score(rga_TEST_df['label'], rf_v2_predictions_test)\n",
    "\n",
    "# Print results\n",
    "print('Random Forest v2 TRAIN accuracy is: %.2f%%' % (rf_v2_acc_train*100))\n",
    "print('Random Forest v2 TEST accuracy is: %.2f%%' % (rf_v2_acc_test*100))"
   ]
  },
  {
   "cell_type": "markdown",
   "metadata": {},
   "source": [
    "### Model v3: ml can utilize very basic features"
   ]
  },
  {
   "cell_type": "code",
   "execution_count": 67,
   "metadata": {
    "collapsed": true
   },
   "outputs": [],
   "source": [
    "def add_features_v3(df):\n",
    "    \"\"\"A bunch of features that aren't particularly human-friendly.\"\"\"\n",
    "    df['feature_len'] = df['subject'].map(len)\n",
    "    df['feature_words'] = df['subject'].map(lambda x: len(x.split()))\n",
    "    df['feature_chars_per_word'] = (df['feature_len'] / df['feature_words']).fillna(0.)\n",
    "    df['feature_digits'] = df['subject'].map(lambda x: sum(c.isdigit() for c in x))\n",
    "    df['feature_punc'] = df['subject'].map(lambda s: sum([1 for x in s if x in set('!\"#$%&\\'()*+,-./:;<=>?@[\\\\]^_`{|}~')]))\n",
    "    \n",
    "add_features_v3(rga_TRAIN_df)\n",
    "add_features_v3(rga_TEST_df)"
   ]
  },
  {
   "cell_type": "code",
   "execution_count": 68,
   "metadata": {},
   "outputs": [
    {
     "name": "stdout",
     "output_type": "stream",
     "text": [
      "Random Forest v3 TRAIN accuracy is: 99.47%\n",
      "Random Forest v3 TEST accuracy is: 94.31%\n"
     ]
    }
   ],
   "source": [
    "# Our features have changed, so let's get the new set of names\n",
    "features = [col for col in rga_TRAIN_df if col.startswith('feature')]\n",
    "\n",
    "# Create a new classifier\n",
    "rf_clf_v3 = ensemble.RandomForestClassifier( # http://scikit-learn.org/stable/modules/generated/sklearn.ensemble.RandomForestClassifier.html\n",
    "    n_estimators=32, # How many trees? More is better, but slower.\n",
    "    n_jobs=-1\n",
    ")\n",
    "\n",
    "# Fit our training data\n",
    "rf_clf_v3.fit(rga_TRAIN_df[features], rga_TRAIN_df['label'])\n",
    "\n",
    "# Make predictions on train and test\n",
    "rf_v3_predictions_train = rf_clf_v3.predict(rga_TRAIN_df[features])\n",
    "rf_v3_predictions_test = rf_clf_v3.predict(rga_TEST_df[features])\n",
    "\n",
    "# Evaluate performance\n",
    "rf_v3_acc_train = metrics.accuracy_score(rga_TRAIN_df['label'], rf_v3_predictions_train)\n",
    "rf_v3_acc_test = metrics.accuracy_score(rga_TEST_df['label'], rf_v3_predictions_test)\n",
    "\n",
    "# Print results\n",
    "print('Random Forest v3 TRAIN accuracy is: %.2f%%' % (rf_v3_acc_train*100))\n",
    "print('Random Forest v3 TEST accuracy is: %.2f%%' % (rf_v3_acc_test*100))"
   ]
  },
  {
   "cell_type": "code",
   "execution_count": null,
   "metadata": {
    "collapsed": true
   },
   "outputs": [],
   "source": [
    "rga_TEST_df[rga_TEST_df['label']!=rf_v3_predictions_test][['subject', 'label']].sample(30)"
   ]
  },
  {
   "cell_type": "markdown",
   "metadata": {},
   "source": [
    "Let's see how we did today:"
   ]
  },
  {
   "cell_type": "code",
   "execution_count": 69,
   "metadata": {},
   "outputs": [
    {
     "data": {
      "text/html": [
       "<div>\n",
       "<table border=\"1\" class=\"dataframe\">\n",
       "  <thead>\n",
       "    <tr style=\"text-align: right;\">\n",
       "      <th></th>\n",
       "      <th>Model</th>\n",
       "      <th>Test Accuracy</th>\n",
       "      <th>Train Accuracy</th>\n",
       "    </tr>\n",
       "  </thead>\n",
       "  <tbody>\n",
       "    <tr>\n",
       "      <th>0</th>\n",
       "      <td>Always Spam</td>\n",
       "      <td>58.398780</td>\n",
       "      <td>57.900610</td>\n",
       "    </tr>\n",
       "    <tr>\n",
       "      <th>1</th>\n",
       "      <td>Simple v1</td>\n",
       "      <td>60.477993</td>\n",
       "      <td>61.071873</td>\n",
       "    </tr>\n",
       "    <tr>\n",
       "      <th>2</th>\n",
       "      <td>Simple v2</td>\n",
       "      <td>81.863382</td>\n",
       "      <td>82.126511</td>\n",
       "    </tr>\n",
       "    <tr>\n",
       "      <th>3</th>\n",
       "      <td>RF v1</td>\n",
       "      <td>87.473869</td>\n",
       "      <td>91.554130</td>\n",
       "    </tr>\n",
       "    <tr>\n",
       "      <th>4</th>\n",
       "      <td>RF v2</td>\n",
       "      <td>92.095599</td>\n",
       "      <td>95.958583</td>\n",
       "    </tr>\n",
       "    <tr>\n",
       "      <th>5</th>\n",
       "      <td>RF v3</td>\n",
       "      <td>94.310413</td>\n",
       "      <td>99.473104</td>\n",
       "    </tr>\n",
       "  </tbody>\n",
       "</table>\n",
       "</div>"
      ],
      "text/plain": [
       "         Model  Test Accuracy  Train Accuracy\n",
       "0  Always Spam      58.398780       57.900610\n",
       "1    Simple v1      60.477993       61.071873\n",
       "2    Simple v2      81.863382       82.126511\n",
       "3        RF v1      87.473869       91.554130\n",
       "4        RF v2      92.095599       95.958583\n",
       "5        RF v3      94.310413       99.473104"
      ]
     },
     "execution_count": 69,
     "metadata": {},
     "output_type": "execute_result"
    }
   ],
   "source": [
    "results_summary_df = pd.DataFrame({\n",
    "    'Model': ['Always Spam', 'Simple v1', 'Simple v2', 'RF v1', 'RF v2', 'RF v3'],\n",
    "    'Train Accuracy': [100*always_spam_acc_train, 100*simple_acc_train, 100*simple_v2_acc_train, 100*rf_v1_acc_train, 100*rf_v2_acc_train, 100*rf_v3_acc_train],\n",
    "    'Test Accuracy': [100*always_spam_acc_test, 100*simple_acc_test, 100*simple_v2_acc_test, 100*rf_v1_acc_test, 100*rf_v2_acc_test, 100*rf_v3_acc_test]\n",
    "})\n",
    "results_summary_df"
   ]
  },
  {
   "cell_type": "code",
   "execution_count": 70,
   "metadata": {},
   "outputs": [
    {
     "data": {
      "image/png": "[encoded data removed]",
      "text/plain": [
       "<matplotlib.figure.Figure at 0x7f8d5062ea58>"
      ]
     },
     "metadata": {},
     "output_type": "display_data"
    }
   ],
   "source": [
    "ax = results_summary_df.plot.bar('Model', ['Train Accuracy', 'Test Accuracy'])\n",
    "\n",
    "_ = ax.set_ylabel('Accuracy (%)')"
   ]
  },
  {
   "cell_type": "markdown",
   "metadata": {},
   "source": [
    "We started with a model that's barely better than guessing, and ended by building a machine learning model with greater than 90% accuracy. That's not the end, though; it is possible to acheive even better performance with this data, and I encourage everyone to start experimenting with new and better features as a way to learn."
   ]
  },
  {
   "cell_type": "markdown",
   "metadata": {},
   "source": [
    "# Learn More\n",
    "I hope this intro has whetted your appetite. There are _tons_ of free resources online to learn more about these topics. Here are some of my favoriate."
   ]
  },
  {
   "cell_type": "markdown",
   "metadata": {},
   "source": [
    "* As mentioned previously, [Learn Python the Hard Way](https://learnpythonthehardway.org/book/) is a great resource for learning Python.\n",
    "* [A visual introduction to machine learning](http://www.r2d3.us/visual-intro-to-machine-learning-part-1/) is a fun way to build a little more intuition around basic ML concepts.\n",
    "* Check out these [tutorials](http://pandas.pydata.org/pandas-docs/stable/tutorials.html) to learn more about notebooks and pandas.\n",
    "* Once you have some familiarity with the basics of Python and ML, [scikit-learn's tutorials](http://scikit-learn.org/stable/tutorial/index.html) are good for building hands-on ML knowledge.\n",
    "* In this training, we've pretty much exclusively used \"error\" and \"accuracy\" to evaluate machine learning models. That's not always the best thing to do. Read [Why accuracy alone is a bad measure for classification tasks, and what we can do about it](https://tryolabs.com/blog/2013/03/25/why-accuracy-alone-bad-measure-classification-tasks-and-what-we-can-do-about-it/) to learn why.\n",
    "* Building intuition around bias and variance is an important fundamental skill. Start with Scott Fortmann-Roe's essay [Understanding the Bias-Variance Tradeoff](http://scott.fortmann-roe.com/docs/BiasVariance.html).\n",
    "* I also highly recommend reading this paper, [A Few Useful Things to Know about Machine Learning](https://homes.cs.washington.edu/~pedrod/papers/cacm12.pdf), when you are ready to start using ML on your own.\n",
    "* Finally, if you prefer a more formal classroom setting, [Andrew Ng's Coursera course on machine learning](https://www.coursera.org/learn/machine-learning) is a fantastic place to start. It's free!"
   ]
  },
  {
   "cell_type": "markdown",
   "metadata": {},
   "source": [
    "# Extra Credit"
   ]
  },
  {
   "cell_type": "code",
   "execution_count": null,
   "metadata": {
    "collapsed": true
   },
   "outputs": [],
   "source": [
    "# Let's get more detailed information about the performance of our best model.\n",
    "# Would you use it in production? Probably not.\n",
    "print(metrics.classification_report(\n",
    "    rga_TEST_df['label'], \n",
    "    rf_v3_predictions_test,\n",
    "    digits=4\n",
    "))"
   ]
  },
  {
   "cell_type": "code",
   "execution_count": null,
   "metadata": {
    "collapsed": true
   },
   "outputs": [],
   "source": [
    "# What if we could make sure the classifier only said 'spam' if it was particularly sure?\n",
    "# We can do that by adjusting the probability threshold.\n",
    "\n",
    "def probs_to_class(probs, threshold=0.5):\n",
    "    # Converts raw spam probability to a label\n",
    "    if probs > threshold:\n",
    "        return 'spam'\n",
    "    else:\n",
    "        return 'ham'\n",
    "\n",
    "pd.Series(rf_clf_v3.predict_proba(rga_TEST_df.head()[features])[:, 1]).map(probs_to_class)"
   ]
  },
  {
   "cell_type": "code",
   "execution_count": null,
   "metadata": {
    "collapsed": true
   },
   "outputs": [],
   "source": [
    "# By default, the classifier's threshold is 0.5.\n",
    "# That means if the estimated spam probability is greater than 50%, label as spam.\n",
    "print(metrics.classification_report(\n",
    "    rga_TEST_df['label'],\n",
    "    pd.Series(rf_clf_v3.predict_proba(rga_TEST_df[features])[:, 1]).map(\n",
    "        lambda p: probs_to_class(p, 0.5)\n",
    "    ),\n",
    "    digits=4\n",
    "))"
   ]
  },
  {
   "cell_type": "code",
   "execution_count": null,
   "metadata": {
    "collapsed": true
   },
   "outputs": [],
   "source": [
    "# Let's look at the distribution of probabilities in our test set.\n",
    "\n",
    "ax = pd.Series(rf_clf_v3.predict_proba(rga_TEST_df[features])[:, 1]).plot.hist(bins=50, edgecolor='white')"
   ]
  },
  {
   "cell_type": "code",
   "execution_count": null,
   "metadata": {
    "collapsed": true
   },
   "outputs": [],
   "source": [
    "# Choosing a higher threshold gets you precision, but at the cost of recall.\n",
    "print(metrics.classification_report(\n",
    "    rga_TEST_df['label'],\n",
    "    pd.Series(rf_clf_v3.predict_proba(rga_TEST_df[features])[:, 1]).map(\n",
    "        lambda p: probs_to_class(p, 0.97)\n",
    "    ),\n",
    "    digits=3\n",
    "))"
   ]
  },
  {
   "cell_type": "markdown",
   "metadata": {
    "collapsed": true
   },
   "source": [
    "## A note on running a model like this in production"
   ]
  },
  {
   "cell_type": "markdown",
   "metadata": {},
   "source": [
    "With an adjusted threshold, this model is close to being suitable for real-world abuse detection as part of a broader portfolio of abuse detection techniques. However, there are a few things I would do before considering using this model in production:\n",
    "\n",
    "1. Most importantly, the training set needs to be augmented with data from the actual mailstream you will be filtering. Every mailstream is different, and a ML model trained on one source of mail will perform worse, if not poorly, on a different one. The best thing you can do for your model is to gather and label your own training data, rather than relying on what is available from other sources. As a general rule of thumb (which you should test for yourself!), you should try to ensure that non-native data makes up no more than one-third of your training set. That means you need to collect a lot more samples. It takes less time than you would think; most people underestimate the value of simply spending time manually labeling more training samples.\n",
    "\n",
    "2. Many of the features are based on particular words. We know that spammers try to avoid filtering by using variations on key words and phrases. Building features that are a little more flexible (for example, a feature that will catch \"viagra\" and anything within one letter substition of that word) is a good idea. Be careful, though: being too flexible with certain words can cause trouble. For example, \"meds\" and \"beds\" are only one letter apart.\n",
    "\n",
    "3. Use more of the email. To keep things simple, we focused on subject lines, but using just the subject line is a bit like playing with one hand tied behind our backs. The rest of the email header and the email content contain many rich features that will improve your model.\n",
    "\n",
    "If you follow this advice, it is possible to improve performance by at least an order of magnitude, which allows you to either reduce false positive rates while keeping spam detection rates the same, or boost spam detection rates while keeping false positive rates the same, or something in between, depending on how you pick your threshold.\n",
    "\n",
    "Deployment of ML models (i.e., actually running them on a server, not just in the notebook environment), is a big topic. This article, [Deploying a scikit-learn classifier to production](https://loads.pickle.me.uk/2016/04/04/deploying-a-scikit-learn-classifier-to-production/), is a good place to start."
   ]
  }
 ],
 "metadata": {
  "kernelspec": {
   "display_name": "Python 3",
   "language": "python",
   "name": "python3"
  },
  "language_info": {
   "codemirror_mode": {
    "name": "ipython",
    "version": 3
   },
   "file_extension": ".py",
   "mimetype": "text/x-python",
   "name": "python",
   "nbconvert_exporter": "python",
   "pygments_lexer": "ipython3",
   "version": "3.6.3"
  }
 },
 "nbformat": 4,
 "nbformat_minor": 2
}
